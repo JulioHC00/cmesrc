{
 "cells": [
  {
   "cell_type": "code",
   "execution_count": 73,
   "metadata": {},
   "outputs": [],
   "source": [
    "# Add project root to path using pathlib\n",
    "import sys\n",
    "\n",
    "from pathlib import Path\n",
    "\n",
    "sys.path.append(str(Path.cwd().parent))\n",
    "\n",
    "from src.cmesrc.config import CMESRC_DB, HARPS_LIFETIME_DATABSE, SDOML_TIMESTAMP_INFO\n",
    "from src.cmesrc.utils import read_SWAN_filepath, filepaths_updated_swan_data\n",
    "from tqdm import tqdm\n",
    "import sqlite3\n",
    "import pandas as pd\n",
    "import pickle"
   ]
  },
  {
   "cell_type": "code",
   "execution_count": 2,
   "metadata": {},
   "outputs": [],
   "source": [
    "with open(SDOML_TIMESTAMP_INFO, \"rb\") as f:\n",
    "    sdoml_timestamp_info = pickle.load(f)"
   ]
  },
  {
   "cell_type": "code",
   "execution_count": 3,
   "metadata": {},
   "outputs": [],
   "source": [
    "timestamps = list(sdoml_timestamp_info.keys())\n",
    "indices = [entry[\"index\"] for entry in sdoml_timestamp_info.values()]"
   ]
  },
  {
   "cell_type": "code",
   "execution_count": 4,
   "metadata": {},
   "outputs": [],
   "source": [
    "con = sqlite3.connect(CMESRC_DB)\n",
    "con.execute(\"PRAGMA foreign_keys = ON\")\n",
    "cur = con.cursor()"
   ]
  },
  {
   "cell_type": "code",
   "execution_count": 5,
   "metadata": {},
   "outputs": [
    {
     "name": "stdout",
     "output_type": "stream",
     "text": [
      "[(0, 'timestamp', 'TEXT', 1, None, 0), (1, 'year', 'INTEGER', 1, None, 0), (2, 'month', 'INTEGER', 1, None, 0), (3, 'day', 'INTEGER', 1, None, 0), (4, 'hour', 'INTEGER', 1, None, 0), (5, 'minute', 'INTEGER', 1, None, 0), (6, 'second', 'INTEGER', 1, None, 0), (7, 'idx', 'INTEGER', 1, None, 0)]\n"
     ]
    }
   ],
   "source": [
    "cur.execute(\"PRAGMA table_info(images);\")\n",
    "results = cur.fetchall()\n",
    "print(results)"
   ]
  },
  {
   "cell_type": "code",
   "execution_count": 6,
   "metadata": {},
   "outputs": [],
   "source": [
    "i = 0\n",
    "years = []\n",
    "months = []\n",
    "days = []\n",
    "hours = []\n",
    "minutes = []\n",
    "seconds = []\n",
    "for timestamp in timestamps:\n",
    "    # Get the year, month, day, hour, minute and seconds from the timestamp\n",
    "    year = int(timestamp[:4])\n",
    "    month = int(timestamp[5:7])\n",
    "    day = int(timestamp[8:10])\n",
    "    hour = int(timestamp[11:13])\n",
    "    minute = int(timestamp[14:16])\n",
    "    second = int(timestamp[17:19])\n",
    "\n",
    "    years.append(year)\n",
    "    months.append(month)\n",
    "    days.append(day)\n",
    "    hours.append(hour)\n",
    "    minutes.append(minute)\n",
    "    seconds.append(second)\n"
   ]
  },
  {
   "cell_type": "code",
   "execution_count": 7,
   "metadata": {},
   "outputs": [
    {
     "data": {
      "text/plain": [
       "[('2010-05-01 00:12:00', 2010, 5, 1, 0, 12, 0, 0),\n",
       " ('2010-05-01 00:24:00', 2010, 5, 1, 0, 24, 0, 1),\n",
       " ('2010-05-01 00:36:00', 2010, 5, 1, 0, 36, 0, 2),\n",
       " ('2010-05-01 00:48:00', 2010, 5, 1, 0, 48, 0, 3),\n",
       " ('2010-05-01 01:00:00', 2010, 5, 1, 1, 0, 0, 4)]"
      ]
     },
     "execution_count": 7,
     "metadata": {},
     "output_type": "execute_result"
    }
   ],
   "source": [
    "new_data = [(timestamp, year, month, day, hour, minute, second, idx) for timestamp, year, month, day, hour, minute, second, idx in zip(timestamps, years, months, days, hours, minutes, seconds, indices)]\n",
    "new_data[:5]"
   ]
  },
  {
   "cell_type": "code",
   "execution_count": 8,
   "metadata": {},
   "outputs": [
    {
     "data": {
      "text/plain": [
       "<sqlite3.Cursor at 0x7fa976e37420>"
      ]
     },
     "execution_count": 8,
     "metadata": {},
     "output_type": "execute_result"
    }
   ],
   "source": [
    "cur.executemany(\"INSERT INTO images (timestamp, year, month, day, hour, minute, second, idx) VALUES (?, ?, ?, ?, ?, ?, ?, ?) ON CONFLICT(timestamp) DO NOTHING\", new_data)"
   ]
  },
  {
   "cell_type": "code",
   "execution_count": 9,
   "metadata": {},
   "outputs": [
    {
     "name": "stdout",
     "output_type": "stream",
     "text": [
      "[('2010-05-01 00:12:00', 2010, 5, 1, 0, 12, 0, 0), ('2010-05-01 00:24:00', 2010, 5, 1, 0, 24, 0, 1), ('2010-05-01 00:36:00', 2010, 5, 1, 0, 36, 0, 2), ('2010-05-01 00:48:00', 2010, 5, 1, 0, 48, 0, 3), ('2010-05-01 01:00:00', 2010, 5, 1, 1, 0, 0, 4)]\n"
     ]
    }
   ],
   "source": [
    "cur.execute(\"SELECT * FROM images LIMIT 5;\")\n",
    "print(cur.fetchall())"
   ]
  },
  {
   "cell_type": "code",
   "execution_count": 10,
   "metadata": {},
   "outputs": [],
   "source": [
    "con.commit()"
   ]
  },
  {
   "cell_type": "code",
   "execution_count": 11,
   "metadata": {},
   "outputs": [
    {
     "data": {
      "text/plain": [
       "harpnum     int64\n",
       "start      object\n",
       "end        object\n",
       "dtype: object"
      ]
     },
     "execution_count": 11,
     "metadata": {},
     "output_type": "execute_result"
    }
   ],
   "source": [
    "df = pd.read_csv(HARPS_LIFETIME_DATABSE)\n",
    "df.rename(\n",
    "    columns={\n",
    "        \"harpsnum\": \"harpnum\"\n",
    "        }, \n",
    "    inplace=True\n",
    "    )\n",
    "\n",
    "df[\"harpnum\"] = df[\"harpnum\"].astype(int)\n",
    "df[\"start\"] = df[\"start\"].astype(str).apply(lambda x: x[:-4])\n",
    "df[\"end\"] = df[\"end\"].astype(str).apply(lambda x: x[:-4])\n",
    "df.dtypes"
   ]
  },
  {
   "cell_type": "code",
   "execution_count": 56,
   "metadata": {},
   "outputs": [
    {
     "ename": "IntegrityError",
     "evalue": "FOREIGN KEY constraint failed",
     "output_type": "error",
     "traceback": [
      "\u001b[0;31m---------------------------------------------------------------------------\u001b[0m",
      "\u001b[0;31mIntegrityError\u001b[0m                            Traceback (most recent call last)",
      "Cell \u001b[0;32mIn[56], line 5\u001b[0m\n\u001b[1;32m      3\u001b[0m     yes \u001b[39m=\u001b[39m \u001b[39minput\u001b[39m(\u001b[39m\"\u001b[39m\u001b[39mDelete for sure?\u001b[39m\u001b[39m\"\u001b[39m)\n\u001b[1;32m      4\u001b[0m     \u001b[39mif\u001b[39;00m yes \u001b[39min\u001b[39;00m [\u001b[39m\"\u001b[39m\u001b[39myes\u001b[39m\u001b[39m\"\u001b[39m, \u001b[39m\"\u001b[39m\u001b[39my\u001b[39m\u001b[39m\"\u001b[39m, \u001b[39m\"\u001b[39m\u001b[39mY\u001b[39m\u001b[39m\"\u001b[39m]:\n\u001b[0;32m----> 5\u001b[0m         cur\u001b[39m.\u001b[39;49mexecute(\u001b[39m\"\u001b[39;49m\u001b[39mDELETE FROM harps;\u001b[39;49m\u001b[39m\"\u001b[39;49m)\n\u001b[1;32m      6\u001b[0m         con\u001b[39m.\u001b[39mcommit()\n\u001b[1;32m      8\u001b[0m cur\u001b[39m.\u001b[39mexecute(\u001b[39m\"\u001b[39m\u001b[39mSELECT * FROM harps LIMIT 5;\u001b[39m\u001b[39m\"\u001b[39m)\n",
      "\u001b[0;31mIntegrityError\u001b[0m: FOREIGN KEY constraint failed"
     ]
    }
   ],
   "source": [
    "DELETE = True\n",
    "if DELETE:\n",
    "    yes = input(\"Delete for sure?\")\n",
    "    if yes in [\"yes\", \"y\", \"Y\"]:\n",
    "        cur.execute(\"DELETE FROM harps;\")\n",
    "        con.commit()\n",
    "\n",
    "cur.execute(\"SELECT * FROM harps LIMIT 5;\")\n",
    "print(cur.fetchall())"
   ]
  },
  {
   "cell_type": "code",
   "execution_count": 57,
   "metadata": {},
   "outputs": [],
   "source": [
    "new_data = df.values\n",
    "\n",
    "for data in new_data:\n",
    "    try:\n",
    "        cur.execute(\"INSERT INTO harps (harpnum, start, end) VALUES (?, ?, ?) ON CONFLICT(harpnum) DO NOTHING\", data)\n",
    "    except sqlite3.IntegrityError as e:\n",
    "        cur.execute(\"SELECT COUNT(*) FROM images WHERE timestamp = ?\", (data[1],))\n",
    "        start_exists = cur.fetchone()[0]\n",
    "        cur.execute(\"SELECT COUNT(*) FROM images WHERE timestamp = ?\", (data[2],))\n",
    "        end_exists = cur.fetchone()[0]\n",
    "\n",
    "        closest_start = data[1]\n",
    "        closest_end = data[2]\n",
    "#        print(data[0])\n",
    "\n",
    "        if not start_exists:\n",
    "            cur.execute(\"SELECT timestamp FROM images WHERE timestamp >= ? ORDER BY timestamp ASC LIMIT 1;\", (closest_start,))\n",
    "#            cur.execute(\"SELECT timestamp FROM images WHERE timestamp >= ? ORDER BY ABS(strftime('%s', timestamp) - strftime('%s', ?)) LIMIT 1;\", (closest_start,))\n",
    "            closest_start = cur.fetchone()[0]\n",
    "#            print(\"START\", closest_start, data[1])\n",
    "        if not end_exists:\n",
    "#            cur.execute(\"SELECT timestamp FROM images ORDER BY ABS(strftime('%s', timestamp) - strftime('%s', ?)) LIMIT 1;\", (closest_end,))\n",
    "            cur.execute(\"SELECT timestamp FROM images WHERE timestamp <= ? ORDER BY timestamp DESC LIMIT 1;\", (closest_end,))\n",
    "            closest_end = cur.fetchone()[0]\n",
    "#            print(\"END\", closest_end, data[2])\n",
    "\n",
    "        cur.execute(\"INSERT INTO harps (harpnum, start, end) VALUES (?, ?, ?) ON CONFLICT(harpnum) DO NOTHING\", (int(data[0]), closest_start, closest_end))"
   ]
  },
  {
   "cell_type": "code",
   "execution_count": 58,
   "metadata": {},
   "outputs": [],
   "source": [
    "cur.execute(\"SELECT COUNT(*) FROM harps LIMIT 1;\")\n",
    "assert cur.fetchone()[0] == 4098"
   ]
  },
  {
   "cell_type": "code",
   "execution_count": 59,
   "metadata": {},
   "outputs": [
    {
     "name": "stdout",
     "output_type": "stream",
     "text": [
      "[(1, '2010-05-01 00:12:00', '2010-05-11 16:12:00'), (2, '2010-05-01 00:12:00', '2010-05-05 12:00:00'), (5, '2010-05-01 00:12:00', '2010-05-03 05:12:00'), (6, '2010-05-01 00:12:00', '2010-05-05 08:36:00'), (8, '2010-05-02 14:48:00', '2010-05-08 17:00:00')]\n"
     ]
    }
   ],
   "source": [
    "cur.execute(\"SELECT * FROM harps LIMIT 5;\")\n",
    "print(cur.fetchall())"
   ]
  },
  {
   "cell_type": "code",
   "execution_count": 60,
   "metadata": {},
   "outputs": [],
   "source": [
    "con.commit()"
   ]
  },
  {
   "cell_type": "code",
   "execution_count": 61,
   "metadata": {},
   "outputs": [],
   "source": [
    "cur.close()\n",
    "con.close()"
   ]
  },
  {
   "attachments": {},
   "cell_type": "markdown",
   "metadata": {},
   "source": [
    "#### This part is to add the HARPS bounding boxes"
   ]
  },
  {
   "cell_type": "code",
   "execution_count": 62,
   "metadata": {},
   "outputs": [],
   "source": [
    "from astropy.time import Time"
   ]
  },
  {
   "cell_type": "code",
   "execution_count": 63,
   "metadata": {},
   "outputs": [],
   "source": [
    "con = sqlite3.connect(CMESRC_DB)\n",
    "con.execute(\"PRAGMA foreign_keys = ON\")\n",
    "cur = con.cursor()"
   ]
  },
  {
   "cell_type": "code",
   "execution_count": 81,
   "metadata": {},
   "outputs": [
    {
     "name": "stdout",
     "output_type": "stream",
     "text": [
      "[]\n"
     ]
    }
   ],
   "source": [
    "DELETE = True\n",
    "if DELETE:\n",
    "    yes = input(\"Delete for sure?\")\n",
    "    if yes in [\"yes\", \"y\", \"Y\"]:\n",
    "        cur.execute(\"DELETE FROM harps_bbox;\")\n",
    "        con.commit()\n",
    "\n",
    "cur.execute(\"SELECT * FROM harps_bbox LIMIT 5;\")\n",
    "print(cur.fetchall())"
   ]
  },
  {
   "cell_type": "code",
   "execution_count": 82,
   "metadata": {},
   "outputs": [
    {
     "name": "stdout",
     "output_type": "stream",
     "text": [
      "[(0, 'harpnum', 'INTEGER', 0, None, 1), (1, 'timestamp', 'TEXT', 0, None, 2), (2, 'LONDTMIN', 'REAL', 0, None, 0), (3, 'LONDTMAX', 'REAL', 0, None, 0), (4, 'LATDTMIN', 'REAL', 0, None, 0), (5, 'LATDTMAX', 'REAL', 0, None, 0), (6, 'IRBB', 'INTEGER', 0, None, 0)]\n"
     ]
    }
   ],
   "source": [
    "# Print the name of the columns in the harps_bbox table\n",
    "\n",
    "cur.execute(\"PRAGMA table_info(harps_bbox);\")\n",
    "\n",
    "results = cur.fetchall()\n",
    "\n",
    "print(results)"
   ]
  },
  {
   "cell_type": "code",
   "execution_count": 84,
   "metadata": {},
   "outputs": [
    {
     "name": "stdout",
     "output_type": "stream",
     "text": [
      "\u001b[H\u001b[2J\n",
      "==CACHING SWAN DATA.==\n",
      "\n"
     ]
    },
    {
     "name": "stderr",
     "output_type": "stream",
     "text": [
      "100%|██████████| 4098/4098 [00:00<00:00, 985282.76it/s]\n"
     ]
    },
    {
     "name": "stdout",
     "output_type": "stream",
     "text": [
      "\u001b[H\u001b[2J"
     ]
    },
    {
     "name": "stderr",
     "output_type": "stream",
     "text": [
      "100%|██████████| 4098/4098 [03:13<00:00, 21.23it/s]\n"
     ]
    }
   ],
   "source": [
    "SWAN = filepaths_updated_swan_data()\n",
    "for harpnum, filepath in tqdm(SWAN.items()):\n",
    "    data = read_SWAN_filepath(filepath)\n",
    "    cur.execute(\"SELECT START, END FROM harps WHERE HARPNUM = ?\", (int(harpnum),))\n",
    "    start, end = cur.fetchone()\n",
    "\n",
    "    start = Time(start)\n",
    "    end = Time(end)\n",
    "\n",
    "    data = data[(data[\"Timestamp\"] >= start) & (data[\"Timestamp\"] <= end)]\n",
    "    df_data = data[[\"Timestamp\", \"LONDTMIN\", \"LONDTMAX\", \"LATDTMIN\", \"LATDTMAX\", \"IRBB\"]].values\n",
    "    new_data = [(int(harpnum), str(timestamp.to_value(\"iso\")[:-4]), float(lonmin), float(lonmax), float(latmin), float(latmax), int(irbb)) for timestamp, lonmin, lonmax, latmin, latmax, irbb in df_data]\n",
    "\n",
    "    for data in new_data:\n",
    "        try:\n",
    "            cur.execute(\"INSERT INTO harps_bbox (harpnum, timestamp, LONDTMIN, LONDTMAX, LATDTMIN, LATDTMAX, IRBB) VALUES (?, ?, ?, ?, ?, ?, ?) ON CONFLICT(harpnum, timestamp) DO NOTHING\", data)\n",
    "        except sqlite3.IntegrityError as e:\n",
    "            cur.execute(\"SELECT COUNT(*) FROM images WHERE timestamp = ?\", (data[1],))\n",
    "            timestamp_exists = cur.fetchone()[0]\n",
    "\n",
    "            if \"FOREIGN KEY\" in e.args[0] and not timestamp_exists:\n",
    "                continue\n",
    "            else:\n",
    "                raise e"
   ]
  },
  {
   "cell_type": "code",
   "execution_count": 85,
   "metadata": {},
   "outputs": [],
   "source": [
    "con.commit()"
   ]
  },
  {
   "cell_type": "code",
   "execution_count": 91,
   "metadata": {},
   "outputs": [
    {
     "name": "stdout",
     "output_type": "stream",
     "text": [
      "[(4087,), (4075,), (4064,), (4067,), (4084,), (4066,), (4042,), (4086,), (4082,), (4083,), (4076,), (4088,), (4071,), (4073,)]\n"
     ]
    }
   ],
   "source": [
    "cur.execute(\"SELECT harpnum FROM harps_bbox WHERE timestamp = '2014-05-02 00:00:00' AND IRBB = 0;\")\n",
    "print(cur.fetchall())"
   ]
  },
  {
   "cell_type": "code",
   "execution_count": 88,
   "metadata": {},
   "outputs": [
    {
     "name": "stdout",
     "output_type": "stream",
     "text": [
      "[(7288, '2018-07-21 17:24:00', -16.629700500000002, -12.6134995, 17.539801000000004, 19.867599, 1), (7288, '2018-07-21 17:36:00', -16.5203005, -12.5040995, 17.539801000000004, 19.867599, 1), (7288, '2018-07-21 17:48:00', -16.402499499999998, -12.3863005, 17.539801000000004, 19.867599, 1), (1979, '2012-09-03 05:24:00', -1.5240005000000003, 16.6547005, 10.8261, 21.3915, 1), (1979, '2012-09-03 05:36:00', -1.4141905, 16.7645105, 10.8261, 21.3915, 1)]\n"
     ]
    }
   ],
   "source": [
    "cur.execute(\"SELECT * FROM harps_bbox WHERE IRBB = 1 LIMIT 5;\")\n",
    "print(cur.fetchall())"
   ]
  },
  {
   "cell_type": "code",
   "execution_count": null,
   "metadata": {},
   "outputs": [],
   "source": []
  }
 ],
 "metadata": {
  "kernelspec": {
   "display_name": "env",
   "language": "python",
   "name": "python3"
  },
  "language_info": {
   "codemirror_mode": {
    "name": "ipython",
    "version": 3
   },
   "file_extension": ".py",
   "mimetype": "text/x-python",
   "name": "python",
   "nbconvert_exporter": "python",
   "pygments_lexer": "ipython3",
   "version": "3.10.12"
  },
  "orig_nbformat": 4
 },
 "nbformat": 4,
 "nbformat_minor": 2
}
