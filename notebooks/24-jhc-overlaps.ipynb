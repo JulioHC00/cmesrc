{
 "cells": [
  {
   "cell_type": "code",
   "execution_count": 3,
   "metadata": {},
   "outputs": [],
   "source": [
    "import sys\n",
    "sys.path.append('../')\n",
    "\n",
    "import sqlite3\n",
    "from src.cmesrc.config import CMESRCV2_DB"
   ]
  },
  {
   "cell_type": "code",
   "execution_count": 2,
   "metadata": {},
   "outputs": [
    {
     "ename": "NameError",
     "evalue": "name 'sqlite3' is not defined",
     "output_type": "error",
     "traceback": [
      "\u001b[0;31m---------------------------------------------------------------------------\u001b[0m",
      "\u001b[0;31mNameError\u001b[0m                                 Traceback (most recent call last)",
      "\u001b[1;32m/home/julio/cmesrc/notebooks/24-jhc-overlaps.ipynb Cell 2\u001b[0m in \u001b[0;36m1\n\u001b[0;32m----> <a href='vscode-notebook-cell:/home/julio/cmesrc/notebooks/24-jhc-overlaps.ipynb#W1sZmlsZQ%3D%3D?line=0'>1</a>\u001b[0m conn \u001b[39m=\u001b[39m sqlite3\u001b[39m.\u001b[39mconnect(CMESRCV2_DB)\n\u001b[1;32m      <a href='vscode-notebook-cell:/home/julio/cmesrc/notebooks/24-jhc-overlaps.ipynb#W1sZmlsZQ%3D%3D?line=1'>2</a>\u001b[0m cur \u001b[39m=\u001b[39m conn\u001b[39m.\u001b[39mcursor()\n\u001b[1;32m      <a href='vscode-notebook-cell:/home/julio/cmesrc/notebooks/24-jhc-overlaps.ipynb#W1sZmlsZQ%3D%3D?line=3'>4</a>\u001b[0m \u001b[39mtry\u001b[39;00m:\n",
      "\u001b[0;31mNameError\u001b[0m: name 'sqlite3' is not defined"
     ]
    }
   ],
   "source": [
    "conn = sqlite3.connect(CMESRCV2_DB)\n",
    "cur = conn.cursor()\n",
    "\n",
    "try:\n",
    "    cur.executescript(\"\"\"\n",
    "    ALTER TABLE HARPS_PIXEL_BBOX ADD COLUMN overlap_percent REAL;\n",
    "    ALTER TABLE HARPS_PIXEL_BBOX ADD COLUMN overlap_harpnum INTEGER;\n",
    "    \"\"\")\n",
    "except sqlite3.OperationalError as e:\n",
    "    print(f\"Column already exists: {e}\")"
   ]
  },
  {
   "cell_type": "code",
   "execution_count": 36,
   "metadata": {},
   "outputs": [],
   "source": [
    "# So for some reason some columns have the x_min and x_max swapped?\n",
    "\n",
    "cur.execute(\"\"\"\n",
    "            UPDATE HARPS_PIXEL_BBOX\n",
    "            SET x_min = CASE WHEN x_min > x_max THEN x_max ELSE x_min END,\n",
    "            x_max = CASE WHEN x_min > x_max THEN x_min ELSE x_max END\n",
    "            WHERE x_min > x_max;\n",
    "\"\"\")\n"
   ]
  },
  {
   "cell_type": "code",
   "execution_count": 37,
   "metadata": {},
   "outputs": [
    {
     "ename": "ProgrammingError",
     "evalue": "Cannot operate on a closed database.",
     "output_type": "error",
     "traceback": [
      "\u001b[0;31m---------------------------------------------------------------------------\u001b[0m",
      "\u001b[0;31mProgrammingError\u001b[0m                          Traceback (most recent call last)",
      "\u001b[1;32m/home/julio/cmesrc/notebooks/24-jhc-overlaps.ipynb Cell 4\u001b[0m in \u001b[0;36m1\n\u001b[0;32m----> <a href='vscode-notebook-cell:/home/julio/cmesrc/notebooks/24-jhc-overlaps.ipynb#W2sZmlsZQ%3D%3D?line=0'>1</a>\u001b[0m cur\u001b[39m.\u001b[39;49mexecutescript(\u001b[39m\"\"\"\u001b[39;49m\n\u001b[1;32m      <a href='vscode-notebook-cell:/home/julio/cmesrc/notebooks/24-jhc-overlaps.ipynb#W2sZmlsZQ%3D%3D?line=1'>2</a>\u001b[0m \u001b[39mCREATE INDEX IF NOT EXISTS idx_hpbb_harpnum_timestamp ON HARPS_PIXEL_BBOX (harpnum, timestamp);\u001b[39;49m\n\u001b[1;32m      <a href='vscode-notebook-cell:/home/julio/cmesrc/notebooks/24-jhc-overlaps.ipynb#W2sZmlsZQ%3D%3D?line=2'>3</a>\u001b[0m \u001b[39mCREATE INDEX IF NOT EXISTS idx_hpbb_harpnum ON HARPS_PIXEL_BBOX (harpnum);\u001b[39;49m\n\u001b[1;32m      <a href='vscode-notebook-cell:/home/julio/cmesrc/notebooks/24-jhc-overlaps.ipynb#W2sZmlsZQ%3D%3D?line=3'>4</a>\u001b[0m \u001b[39mCREATE INDEX IF NOT EXISTS idx_hpbb_timestamp ON HARPS_PIXEL_BBOX (timestamp);\u001b[39;49m\n\u001b[1;32m      <a href='vscode-notebook-cell:/home/julio/cmesrc/notebooks/24-jhc-overlaps.ipynb#W2sZmlsZQ%3D%3D?line=4'>5</a>\u001b[0m \u001b[39mCREATE INDEX IF NOT EXISTS idx_hpbb_bbox_coords ON HARPS_PIXEL_BBOX (x_min, x_max, y_min, y_max);\u001b[39;49m\n\u001b[1;32m      <a href='vscode-notebook-cell:/home/julio/cmesrc/notebooks/24-jhc-overlaps.ipynb#W2sZmlsZQ%3D%3D?line=5'>6</a>\u001b[0m \u001b[39m\"\"\"\u001b[39;49m)\n",
      "\u001b[0;31mProgrammingError\u001b[0m: Cannot operate on a closed database."
     ]
    }
   ],
   "source": [
    "cur.executescript(\"\"\"\n",
    "CREATE INDEX IF NOT EXISTS idx_hpbb_harpnum_timestamp ON HARPS_PIXEL_BBOX (harpnum, timestamp);\n",
    "CREATE INDEX IF NOT EXISTS idx_hpbb_harpnum ON HARPS_PIXEL_BBOX (harpnum);\n",
    "CREATE INDEX IF NOT EXISTS idx_hpbb_timestamp ON HARPS_PIXEL_BBOX (timestamp);\n",
    "CREATE INDEX IF NOT EXISTS idx_hpbb_bbox_coords ON HARPS_PIXEL_BBOX (x_min, x_max, y_min, y_max);\n",
    "\"\"\")"
   ]
  },
  {
   "cell_type": "code",
   "execution_count": 4,
   "metadata": {},
   "outputs": [
    {
     "data": {
      "text/plain": [
       "<sqlite3.Cursor at 0x7f6f7c4e4f40>"
      ]
     },
     "execution_count": 4,
     "metadata": {},
     "output_type": "execute_result"
    }
   ],
   "source": [
    "cur.executescript(\"\"\"\n",
    "-- Create an index on HARPS_PIXEL_BBOX for the join in the temp_overlap creation step\n",
    "CREATE INDEX IF NOT EXISTS idx_hpb_harpnum_timestamp ON HARPS_PIXEL_BBOX(harpnum, timestamp);\n",
    "\n",
    "-- Create temporary table with overlap info\n",
    "CREATE TEMPORARY TABLE temp_overlap AS\n",
    "SELECT\n",
    "    a.harpnum AS harpnum1,\n",
    "    b.harpnum AS harpnum2,\n",
    "    a.timestamp AS timestamp,\n",
    "    100.0 * CASE WHEN a.x_min < b.x_max AND a.x_max > b.x_min AND a.y_min < b.y_max AND a.y_max > b.y_min\n",
    "        THEN (MIN(a.x_max, b.x_max) - MAX(a.x_min, b.x_min)) * (MIN(a.y_max, b.y_max) - MAX(a.y_min, b.y_min))\n",
    "        ELSE 0\n",
    "    END / NULLIF((a.x_max - a.x_min) * (a.y_max - a.y_min), 0) AS overlap_percent\n",
    "FROM HARPS_PIXEL_BBOX a\n",
    "JOIN HARPS_PIXEL_BBOX b ON a.timestamp = b.timestamp AND a.harpnum != b.harpnum;\n",
    "\n",
    "-- Create an index on temp_overlap for the window function in the temp_largest_overlap creation step\n",
    "CREATE INDEX IF NOT EXISTS idx_temp_overlap_harpnum1_timestamp_overlap ON temp_overlap(harpnum1, timestamp, overlap_percent DESC);\n",
    "\n",
    "-- Create temporary table with largest overlap and corresponding harpnum\n",
    "CREATE TEMPORARY TABLE temp_largest_overlap AS\n",
    "WITH ranked AS (\n",
    "    SELECT harpnum1, timestamp, overlap_percent, harpnum2,\n",
    "           ROW_NUMBER() OVER(PARTITION BY harpnum1, timestamp ORDER BY overlap_percent DESC) AS row_num\n",
    "    FROM temp_overlap\n",
    "    WHERE overlap_percent > 0\n",
    ")\n",
    "SELECT harpnum1, timestamp, overlap_percent AS max_overlap_percent, harpnum2 AS max_harpnum2\n",
    "FROM ranked\n",
    "WHERE row_num = 1;\n",
    "\n",
    "-- Create an index on temp_largest_overlap for the join in the UPDATE HARPS_PIXEL_BBOX step\n",
    "CREATE INDEX IF NOT EXISTS idx_temp_largest_overlap_harpnum1_timestamp ON temp_largest_overlap(harpnum1, timestamp);\n",
    "\n",
    "-- Update the HARPS_PIXEL_BBOX table using a temporary table and a common table expression\n",
    "WITH updated AS (\n",
    "  SELECT h.rowid, t.max_overlap_percent, t.max_harpnum2\n",
    "  FROM HARPS_PIXEL_BBOX h\n",
    "  JOIN temp_largest_overlap t ON h.harpnum = t.harpnum1 AND h.timestamp = t.timestamp\n",
    ")\n",
    "UPDATE HARPS_PIXEL_BBOX\n",
    "SET overlap_percent = (SELECT max_overlap_percent FROM updated u WHERE u.rowid = HARPS_PIXEL_BBOX.rowid),\n",
    "    overlap_harpnum = (SELECT max_harpnum2 FROM updated u WHERE u.rowid = HARPS_PIXEL_BBOX.rowid)\n",
    "WHERE rowid IN (SELECT rowid FROM updated);\n",
    "\n",
    "-- Drop the temporary tables\n",
    "DROP TABLE temp_overlap;\n",
    "DROP TABLE temp_largest_overlap;\n",
    "\n",
    "\"\"\")"
   ]
  },
  {
   "cell_type": "code",
   "execution_count": 8,
   "metadata": {},
   "outputs": [],
   "source": [
    "conn.commit()\n",
    "conn.close()"
   ]
  },
  {
   "cell_type": "code",
   "execution_count": 9,
   "metadata": {},
   "outputs": [],
   "source": [
    "conn.close()"
   ]
  },
  {
   "cell_type": "code",
   "execution_count": 10,
   "metadata": {},
   "outputs": [],
   "source": [
    "conn = sqlite3.connect(CMESRCV2_DB)\n",
    "cur = conn.cursor()\n",
    "\n",
    "try:\n",
    "    cur.executescript(\"\"\"\n",
    "    ALTER TABLE HARPS_BBOX ADD COLUMN overlap_percent REAL;\n",
    "    ALTER TABLE HARPS_BBOX ADD COLUMN overlap_harpnum INTEGER;\n",
    "    \"\"\")\n",
    "except sqlite3.OperationalError as e:\n",
    "    print(f\"Column already exists: {e}\")\n"
   ]
  },
  {
   "cell_type": "code",
   "execution_count": 11,
   "metadata": {},
   "outputs": [
    {
     "data": {
      "text/plain": [
       "<sqlite3.Cursor at 0x7f74e55ae940>"
      ]
     },
     "execution_count": 11,
     "metadata": {},
     "output_type": "execute_result"
    }
   ],
   "source": [
    "cur.executescript(\"\"\"\n",
    "CREATE INDEX IF NOT EXISTS idx_hbb_harpnum_timestamp ON HARPS_BBOX (harpnum, timestamp);\n",
    "CREATE INDEX IF NOT EXISTS idx_hbb_harpnum ON HARPS_BBOX (harpnum);\n",
    "CREATE INDEX IF NOT EXISTS idx_hbb_timestamp ON HARPS_BBOX (timestamp);\n",
    "CREATE INDEX IF NOT EXISTS idx_hbb_bbox_coords ON HARPS_BBOX (LONDTMIN, LONDTMAX, LATDTMIN, LATDTMAX);\n",
    "\"\"\")"
   ]
  },
  {
   "cell_type": "code",
   "execution_count": 16,
   "metadata": {},
   "outputs": [
    {
     "data": {
      "text/plain": [
       "<sqlite3.Cursor at 0x7f74e55ae940>"
      ]
     },
     "execution_count": 16,
     "metadata": {},
     "output_type": "execute_result"
    }
   ],
   "source": [
    "cur.executescript(\"\"\"\n",
    "-- Create an index on HARPS_BBOX for the join in the temp_overlap creation step\n",
    "CREATE INDEX IF NOT EXISTS idx_hbb_harpnum_timestamp ON HARPS_BBOX(harpnum, timestamp);\n",
    "\n",
    "-- Create temporary table with overlap info\n",
    "CREATE TEMPORARY TABLE temp_overlap AS\n",
    "SELECT\n",
    "    a.harpnum AS harpnum1,\n",
    "    b.harpnum AS harpnum2,\n",
    "    a.timestamp AS timestamp,\n",
    "    100.0 * CASE WHEN a.LONDTMIN < b.LONDTMAX AND a.LONDTMAX > b.LONDTMIN AND a.LATDTMIN < b.LATDTMAX AND a.LATDTMAX > b.LATDTMIN\n",
    "        THEN (MIN(a.LONDTMAX, b.LONDTMAX) - MAX(a.LONDTMIN, b.LONDTMIN)) * ABS((SIN(0.0174532925 * MIN(a.LATDTMAX, b.LATDTMAX)) - SIN(0.0174532925 * MAX(a.LATDTMIN, b.LATDTMIN))))\n",
    "        ELSE 0\n",
    "    END / NULLIF((a.LONDTMAX - a.LONDTMIN) * ABS(SIN( 0.0174532925 * a.LATDTMAX) - SIN(0.0174532925 * a.LATDTMIN)), 0) AS overlap_percent\n",
    "FROM HARPS_BBOX a\n",
    "JOIN HARPS_BBOX b ON a.timestamp = b.timestamp AND a.harpnum != b.harpnum;\n",
    "\n",
    "-- Create an index on temp_overlap for the window function in the temp_largest_overlap creation step\n",
    "CREATE INDEX IF NOT EXISTS idx_temp_overlap_harpnum1_timestamp_overlap ON temp_overlap(harpnum1, timestamp, overlap_percent DESC);\n",
    "\n",
    "-- Create temporary table with largest overlap and corresponding harpnum\n",
    "CREATE TEMPORARY TABLE temp_largest_overlap AS\n",
    "WITH ranked AS (\n",
    "    SELECT harpnum1, timestamp, overlap_percent, harpnum2,\n",
    "           ROW_NUMBER() OVER(PARTITION BY harpnum1, timestamp ORDER BY overlap_percent DESC) AS row_num\n",
    "    FROM temp_overlap\n",
    "    WHERE overlap_percent > 0\n",
    ")\n",
    "SELECT harpnum1, timestamp, overlap_percent AS max_overlap_percent, harpnum2 AS max_harpnum2\n",
    "FROM ranked\n",
    "WHERE row_num = 1;\n",
    "\n",
    "-- Create an index on temp_largest_overlap for the join in the UPDATE HARPS_BBOX step\n",
    "CREATE INDEX IF NOT EXISTS idx_temp_largest_overlap_harpnum1_timestamp ON temp_largest_overlap(harpnum1, timestamp);\n",
    "\n",
    "-- Update the HARPS_BBOX table using a temporary table and a common table expression\n",
    "WITH updated AS (\n",
    "  SELECT h.rowid, t.max_overlap_percent, t.max_harpnum2\n",
    "  FROM HARPS_BBOX h\n",
    "  JOIN temp_largest_overlap t ON h.harpnum = t.harpnum1 AND h.timestamp = t.timestamp\n",
    ")\n",
    "UPDATE HARPS_BBOX\n",
    "SET overlap_percent = (SELECT max_overlap_percent FROM updated u WHERE u.rowid = HARPS_BBOX.rowid),\n",
    "    overlap_harpnum = (SELECT max_harpnum2 FROM updated u WHERE u.rowid = HARPS_BBOX.rowid)\n",
    "WHERE rowid IN (SELECT rowid FROM updated);\n",
    "\n",
    "-- Drop the temporary tables\n",
    "DROP TABLE temp_overlap;\n",
    "DROP TABLE temp_largest_overlap;\n",
    "\n",
    "\"\"\")"
   ]
  },
  {
   "cell_type": "code",
   "execution_count": 17,
   "metadata": {},
   "outputs": [],
   "source": [
    "conn.commit()\n",
    "conn.close()"
   ]
  },
  {
   "cell_type": "code",
   "execution_count": 22,
   "metadata": {},
   "outputs": [
    {
     "name": "stdout",
     "output_type": "stream",
     "text": [
      "Column already exists: duplicate column name: area\n"
     ]
    }
   ],
   "source": [
    "conn = sqlite3.connect(CMESRCV2_DB)\n",
    "cur = conn.cursor()\n",
    "\n",
    "try:\n",
    "    cur.execute(\"ALTER TABLE HARPS_BBOX ADD COLUMN area REAL;\")\n",
    "except sqlite3.OperationalError as e:\n",
    "    print(f\"Column already exists: {e}\")"
   ]
  },
  {
   "cell_type": "code",
   "execution_count": 23,
   "metadata": {},
   "outputs": [
    {
     "data": {
      "text/plain": [
       "<sqlite3.Cursor at 0x7fef99a68f40>"
      ]
     },
     "execution_count": 23,
     "metadata": {},
     "output_type": "execute_result"
    }
   ],
   "source": [
    "\n",
    "cur.executescript(\"\"\"\n",
    "-- Create an index on HARPS_BBOX for the join in the temp_overlap creation step\n",
    "CREATE INDEX IF NOT EXISTS idx_hbb_harpnum_timestamp ON HARPS_BBOX(harpnum, timestamp);\n",
    "\n",
    "CREATE INDEX IF NOT EXISTS idx_hbb_harpnum_timestamp ON HARPS_BBOX(harpnum, timestamp);\n",
    "\n",
    "UPDATE HARPS_BBOX\n",
    "SET area = NULLIF(100 * 0.0174532925 * (LONDTMAX - LONDTMIN) * ABS(SIN(0.0174532925 * LATDTMAX) - SIN(0.0174532925 * LATDTMIN)) / (2 * 3.141592653), 0);\n",
    "\"\"\")"
   ]
  },
  {
   "cell_type": "code",
   "execution_count": 24,
   "metadata": {},
   "outputs": [],
   "source": [
    "conn.commit()\n",
    "conn.close()"
   ]
  },
  {
   "cell_type": "code",
   "execution_count": 33,
   "metadata": {},
   "outputs": [],
   "source": [
    "conn = sqlite3.connect(CMESRCV2_DB)\n",
    "cur = conn.cursor()\n",
    "\n",
    "# Drop area column\n",
    "cur.execute(\"ALTER TABLE HARPS_PIXEL_BBOX DROP COLUMN area;\")\n",
    "\n",
    "try:\n",
    "    cur.execute(\"ALTER TABLE HARPS_PIXEL_BBOX ADD COLUMN area REAL;\")\n",
    "except sqlite3.OperationalError as e:\n",
    "    print(f\"Column already exists: {e}\")"
   ]
  },
  {
   "cell_type": "code",
   "execution_count": 34,
   "metadata": {},
   "outputs": [
    {
     "data": {
      "text/plain": [
       "<sqlite3.Cursor at 0x7fef99a5cec0>"
      ]
     },
     "execution_count": 34,
     "metadata": {},
     "output_type": "execute_result"
    }
   ],
   "source": [
    "\n",
    "cur.executescript(\"\"\"\n",
    "-- Create an index on HARPS_PIXEL_BBOX for the join in the temp_overlap creation step\n",
    "CREATE INDEX IF NOT EXISTS idx_hpbb_harpnum_timestamp ON HARPS_PIXEL_BBOX(harpnum, timestamp);\n",
    "\n",
    "CREATE INDEX IF NOT EXISTS idx_hpbb_harpnum_timestamp ON HARPS_PIXEL_BBOX(harpnum, timestamp);\n",
    "\n",
    "UPDATE HARPS_PIXEL_BBOX\n",
    "SET area = 100 * (x_max - x_min) * (y_max - y_min) / (512 * 512);\n",
    "\"\"\")"
   ]
  },
  {
   "cell_type": "code",
   "execution_count": 35,
   "metadata": {},
   "outputs": [],
   "source": [
    "conn.commit()\n",
    "conn.close()"
   ]
  },
  {
   "cell_type": "code",
   "execution_count": null,
   "metadata": {},
   "outputs": [],
   "source": []
  }
 ],
 "metadata": {
  "kernelspec": {
   "display_name": "Python 3",
   "language": "python",
   "name": "python3"
  },
  "language_info": {
   "codemirror_mode": {
    "name": "ipython",
    "version": 3
   },
   "file_extension": ".py",
   "mimetype": "text/x-python",
   "name": "python",
   "nbconvert_exporter": "python",
   "pygments_lexer": "ipython3",
   "version": "3.10.12"
  },
  "orig_nbformat": 4
 },
 "nbformat": 4,
 "nbformat_minor": 2
}
