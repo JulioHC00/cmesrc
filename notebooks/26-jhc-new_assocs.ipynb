{
 "cells": [
  {
   "cell_type": "code",
   "execution_count": 1,
   "metadata": {},
   "outputs": [],
   "source": [
    "import sys\n",
    "sys.path.append('../')\n",
    "\n",
    "import sqlite3\n",
    "import pandas as pd\n",
    "from src.cmesrc.config import CMESRCV2_DB, SPATIOTEMPORAL_MATCHING_HARPS_DATABASE_PICKLE, DIMMINGS_MATCHED_TO_HARPS_PICKLE"
   ]
  },
  {
   "cell_type": "code",
   "execution_count": 2,
   "metadata": {},
   "outputs": [
    {
     "name": "stdout",
     "output_type": "stream",
     "text": [
      "CMES_HARPS_SPATIALLY_CONSIST dropped.\n"
     ]
    },
    {
     "data": {
      "text/plain": [
       "<sqlite3.Cursor at 0x7f55b37f05c0>"
      ]
     },
     "execution_count": 2,
     "metadata": {},
     "output_type": "execute_result"
    }
   ],
   "source": [
    "conn = sqlite3.connect(CMESRCV2_DB)\n",
    "conn.execute(\"PRAGMA foreign_keys = OFF\")\n",
    "cur = conn.cursor()\n",
    "\n",
    "# Move the table \"CMES_HARPS_SPATIALLY_CONSIST\" to name \"OLD_CMES_HARPS_SPATIALLY_CONSIST\"\n",
    "\n",
    "# Check if \"OLD_CMES_HARPS_SPATIALLY_CONSIST\" exists\n",
    "cur.execute(\"\"\"\n",
    "            SELECT name FROM sqlite_master WHERE type='table' AND name='OLD_CMES_HARPS_SPATIALLY_CONSIST'\n",
    "\t\t\t\"\"\"\n",
    ")\n",
    "\n",
    "if len(cur.fetchall()) == 0:\n",
    "\tprint(\"OLD_CMES_HARPS_SPATIALLY_CONSIST does not exist. Creating it now.\")\n",
    "\tcur.execute(\"\"\"\n",
    " \t\t\t\tALTER TABLE CMES_HARPS_SPATIALLY_CONSIST\n",
    " \t\t\t\tRENAME TO OLD_CMES_HARPS_SPATIALLY_CONSIST\n",
    " \t\t\t\t\"\"\")\n",
    "else:\n",
    "\tchoice = input(\"OLD_CMES_HARPS_SPATIALLY_CONSIST already exists. Replace it? (y/n)\")\n",
    "\tif choice == 'y':\n",
    "\t\tcur.execute(\"\"\"\n",
    "\t\t\t\t\tDROP TABLE OLD_CMES_HARPS_SPATIALLY_CONSIST\n",
    "\t\t\t\t\t\"\"\")\n",
    "\t\tcur.execute(\"\"\"\n",
    "\t\t\t\t\tALTER TABLE CMES_HARPS_SPATIALLY_CONSIST\n",
    "\t\t\t\t\tRENAME TO OLD_CMES_HARPS_SPATIALLY_CONSIST\n",
    "\t\t\t\t\t\"\"\")\n",
    "\n",
    "\t\tprint(\"OLD_CMES_HARPS_SPATIALLY_CONSIST replaced.\")\n",
    "\telse:\n",
    "\t\tnew_choice = input(\"Drop CMES_HARPS_SPATIALLY_CONSIST and replace it? (y/n)\")\n",
    "\t\t\n",
    "\t\tif new_choice == \"y\":\n",
    "\t\t\tcur.execute(\"\"\"\n",
    "\t\t\t\t\t\tDROP TABLE CMES_HARPS_SPATIALLY_CONSIST\n",
    "\t\t\t\t\t\t\"\"\")\n",
    "\t\t\tprint(\"CMES_HARPS_SPATIALLY_CONSIST dropped.\")\n",
    "\t\telse:\n",
    "\t\t\traise Exception(\"Cannot proceed without dropping CMES_HARPS_SPATIALLY_CONSIST or overwriting OLD_CMES_HARPS_SPATIALLY_CONSIST\")\n",
    "\n",
    "# Create a new table \"CMES_HARPS_SPATIALLY_CONSIST\" with the same schema as the old one\n",
    "\n",
    "cur.execute(\"\"\"\n",
    "CREATE TABLE \"CMES_HARPS_SPATIALLY_CONSIST\" (\n",
    "\t\"harpnum\"\tINTEGER,\n",
    "\t\"cme_id\"\tINTEGER,\n",
    "\tPRIMARY KEY(\"harpnum\",\"cme_id\"),\n",
    "\tFOREIGN KEY(\"harpnum\") REFERENCES \"HARPS\"(\"harpnum\"),\n",
    "\tFOREIGN KEY(\"cme_id\") REFERENCES \"CMES\"(\"cme_id\")\n",
    ");\n",
    "\"\"\")"
   ]
  },
  {
   "cell_type": "code",
   "execution_count": 3,
   "metadata": {},
   "outputs": [],
   "source": [
    "\n",
    "df = pd.read_pickle(SPATIOTEMPORAL_MATCHING_HARPS_DATABASE_PICKLE)\n",
    "df = df[df[\"HARPS_SPAT_CONSIST\"]]\n",
    "\n",
    "for cme_id, harpnum in df[[\"CME_ID\", \"HARPNUM\"]].values:\n",
    "    cme_id = int(cme_id[2:])\n",
    "    harpnum = int(harpnum)\n",
    "\n",
    "    # Add the match to CMES_HARPS_SPATIALLY_CONSIST\n",
    "\n",
    "    cur.execute(\"\"\"\n",
    "                INSERT INTO CMES_HARPS_SPATIALLY_CONSIST (harpnum, cme_id)\n",
    "                VALUES (?, ?)\n",
    "                \"\"\", (harpnum, cme_id))"
   ]
  },
  {
   "cell_type": "code",
   "execution_count": 4,
   "metadata": {},
   "outputs": [],
   "source": [
    "conn.commit()"
   ]
  },
  {
   "cell_type": "code",
   "execution_count": 5,
   "metadata": {},
   "outputs": [
    {
     "name": "stdout",
     "output_type": "stream",
     "text": [
      "DIMMINGS dropped.\n"
     ]
    },
    {
     "data": {
      "text/plain": [
       "<sqlite3.Cursor at 0x7f55b37f05c0>"
      ]
     },
     "execution_count": 5,
     "metadata": {},
     "output_type": "execute_result"
    }
   ],
   "source": [
    "# Same with dimmings now\n",
    "\n",
    "# Move the table \"DIMMINGS\" to name \"OLD_DIMMINGS\"\n",
    "\n",
    "# Check if \"OLD_DIMMINGS\" exists\n",
    "cur.execute(\"\"\"\n",
    "            SELECT name FROM sqlite_master WHERE type='table' AND name='OLD_DIMMINGS'\n",
    "            \"\"\"\n",
    ")\n",
    "\n",
    "if len(cur.fetchall()) == 0:\n",
    "    print(\"OLD_DIMMINGS does not exist. Creating it now.\")\n",
    "    cur.execute(\"\"\"\n",
    "                    ALTER TABLE DIMMINGS\n",
    "                    RENAME TO OLD_DIMMINGS\n",
    "                    \"\"\")\n",
    "else:\n",
    "    choice = input(\"OLD_DIMMINGS already exists. Replace it? (y/n)\")\n",
    "    if choice == 'y':\n",
    "        cur.execute(\"\"\"\n",
    "                        DROP TABLE OLD_DIMMINGS\n",
    "                        \"\"\")\n",
    "        cur.execute(\"\"\"\n",
    "                        ALTER TABLE DIMMINGS\n",
    "                        RENAME TO OLD_DIMMINGS\n",
    "                        \"\"\")\n",
    "\n",
    "        print(\"OLD_DIMMINGS replaced.\")\n",
    "    else:\n",
    "        new_choice = input(\"Drop DIMMINGS and replace it? (y/n)\")\n",
    "\n",
    "        if new_choice == \"y\":\n",
    "            cur.execute(\"\"\"\n",
    "                            DROP TABLE DIMMINGS\n",
    "                            \"\"\")\n",
    "            print(\"DIMMINGS dropped.\")\n",
    "        else:\n",
    "            raise Exception(\"Cannot proceed without dropping DIMMINGS or overwriting OLD_DIMMINGS\")\n",
    "\n",
    "        \n",
    "cur.execute(\"\"\"\n",
    "CREATE TABLE \"DIMMINGS\" (\n",
    "\t\"dimming_id\"\tINTEGER NOT NULL,\n",
    "\t\"harpnum\"\tINTEGER,\n",
    "\t\"harps_dimming_dist\"\tREAL NOT NULL,\n",
    "\t\"dimming_start_date\"\tTEXT NOT NULL,\n",
    "\t\"dimming_peak_date\"\tTEXT NOT NULL,\n",
    "\t\"dimming_lon\"\tREAL NOT NULL,\n",
    "\t\"dimming_lat\"\tREAL NOT NULL,\n",
    "\t\"image_timestamp\"\tTEXT,\n",
    "\tPRIMARY KEY(\"dimming_id\"),\n",
    "\tFOREIGN KEY(\"image_timestamp\") REFERENCES \"IMAGES\"(\"timestamp\"),\n",
    "\tFOREIGN KEY(\"harpnum\") REFERENCES \"HARPS\"(\"harpnum\")\n",
    ");\n",
    "\"\"\")"
   ]
  },
  {
   "cell_type": "code",
   "execution_count": 6,
   "metadata": {},
   "outputs": [],
   "source": [
    "dimmings = pd.read_pickle(DIMMINGS_MATCHED_TO_HARPS_PICKLE)\n",
    "dimmings = dimmings[dimmings[\"MATCH\"]]\n",
    "\n",
    "for i, row in dimmings[dimmings[\"MATCH\"]].iterrows():\n",
    "    cur.execute(\n",
    "        \"\"\"\n",
    "        INSERT INTO dimmings (dimming_id, harpnum, harps_dimming_dist, dimming_start_date, dimming_peak_date, dimming_lon, dimming_lat)\n",
    "        VALUES (?, ?, ?, ?, ?, ?, ?)\n",
    "        \"\"\",\n",
    "        (\n",
    "            int(row[\"dimming_id\"]),\n",
    "            int(row[\"HARPNUM\"]),\n",
    "            row[\"HARPS_DIMMING_DISTANCE\"],\n",
    "            row[\"start_time\"].split(\".\")[0],\n",
    "            row[\"max_detection_time\"].iso[:-4],\n",
    "            row[\"longitude\"],\n",
    "            row[\"latitude\"]\n",
    "        )\n",
    "    )"
   ]
  },
  {
   "cell_type": "code",
   "execution_count": 7,
   "metadata": {},
   "outputs": [],
   "source": [
    "conn.commit()\n",
    "conn.close()"
   ]
  },
  {
   "cell_type": "code",
   "execution_count": 8,
   "metadata": {},
   "outputs": [
    {
     "name": "stderr",
     "output_type": "stream",
     "text": [
      "100%|██████████| 2514/2514 [00:00<00:00, 117331.67it/s]\n"
     ]
    }
   ],
   "source": [
    "from datetime import datetime\n",
    "from tqdm import tqdm\n",
    "import bisect\n",
    "\n",
    "# Function to find the closest timestamp using binary search\n",
    "def closest_timestamp(target, sorted_timestamps):\n",
    "    index = bisect.bisect_left(sorted_timestamps, target)\n",
    "    if index == 0:\n",
    "        return sorted_timestamps[0]\n",
    "    if index == len(sorted_timestamps):\n",
    "        return sorted_timestamps[-1]\n",
    "    before = sorted_timestamps[index - 1]\n",
    "    after = sorted_timestamps[index]\n",
    "    if after - target < target - before:\n",
    "       return after\n",
    "    else:\n",
    "       return before\n",
    "\n",
    "conn = sqlite3.connect(CMESRCV2_DB)\n",
    "cur = conn.cursor()\n",
    "\n",
    "image_timestamps = cur.execute(\"SELECT timestamp FROM images\").fetchall()\n",
    "image_timestamps = [t[0] for t in image_timestamps]\n",
    "\n",
    "timestamps = sorted([datetime.strptime(t, \"%Y-%m-%d %H:%M:%S\") for t in image_timestamps])\n",
    "image_timestamps = timestamps\n",
    "\n",
    "for row in tqdm(cur.execute(\"SELECT dimming_id, dimming_start_date FROM dimmings\").fetchall()):\n",
    "    dimming_timestamp = datetime.strptime(row[1], \"%Y-%m-%d %H:%M:%S\")\n",
    "    image_timestamp = closest_timestamp(dimming_timestamp, image_timestamps)\n",
    "    cur.execute(\"UPDATE dimmings SET image_timestamp = ? WHERE dimming_id = ?\", (image_timestamp.strftime(\"%Y-%m-%d %H:%M:%S\"), row[0]))\n",
    "\n",
    "conn.commit()\n",
    "conn.close()"
   ]
  },
  {
   "cell_type": "code",
   "execution_count": null,
   "metadata": {},
   "outputs": [],
   "source": []
  }
 ],
 "metadata": {
  "kernelspec": {
   "display_name": "Python 3",
   "language": "python",
   "name": "python3"
  },
  "language_info": {
   "codemirror_mode": {
    "name": "ipython",
    "version": 3
   },
   "file_extension": ".py",
   "mimetype": "text/x-python",
   "name": "python",
   "nbconvert_exporter": "python",
   "pygments_lexer": "ipython3",
   "version": "3.10.12"
  },
  "orig_nbformat": 4
 },
 "nbformat": 4,
 "nbformat_minor": 2
}
