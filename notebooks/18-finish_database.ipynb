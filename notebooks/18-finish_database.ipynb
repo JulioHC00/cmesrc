{
 "cells": [
  {
   "cell_type": "code",
   "execution_count": 2,
   "metadata": {},
   "outputs": [],
   "source": [
    "import pandas as pd\n",
    "import numpy as np\n",
    "import sqlite3\n",
    "\n",
    "import sys\n",
    "sys.path.append(\"../\")\n",
    "\n",
    "from src.cmesrc.config import CMESRC_DB\n",
    "\n",
    "from src.cmesrc.config import FLARES_MATCHED_TO_HARPS_PICKLE, DIMMINGS_MATCHED_TO_HARPS_PICKLE, LASCO_CME_DATABASE, MAIN_DATABASE_PICKLE, SPATIOTEMPORAL_MATCHING_HARPS_DATABASE_PICKLE, RAW_DIMMINGS_CATALOGUE\n",
    "import matplotlib.pyplot as plt"
   ]
  },
  {
   "cell_type": "code",
   "execution_count": 3,
   "metadata": {},
   "outputs": [],
   "source": [
    "con = sqlite3.connect(CMESRC_DB)\n",
    "con.execute(\"PRAGMA foreign_keys = ON\")\n",
    "cur = con.cursor()"
   ]
  },
  {
   "cell_type": "code",
   "execution_count": 63,
   "metadata": {},
   "outputs": [
    {
     "name": "stdout",
     "output_type": "stream",
     "text": [
      "HARPNUM                int64\n",
      "FLARE_ID               int64\n",
      "FLARE_DATE            object\n",
      "FLARE_LON             object\n",
      "FLARE_LAT             object\n",
      "FLARE_CLASS_SCORE     object\n",
      "FLARE_CLASS           object\n",
      "FLARE_AR               int64\n",
      "FLARE_AR_SOURCE       object\n",
      "FLARE_VERIFICATION    object\n",
      "dtype: object\n"
     ]
    }
   ],
   "source": [
    "flares = pd.read_pickle(FLARES_MATCHED_TO_HARPS_PICKLE)\n",
    "flares.replace({np.nan: None}, inplace=True)\n",
    "# Print columns and data type\n",
    "print(flares.dtypes)\n"
   ]
  },
  {
   "cell_type": "code",
   "execution_count": 64,
   "metadata": {},
   "outputs": [
    {
     "name": "stdout",
     "output_type": "stream",
     "text": [
      "[('harps',), ('harps_bbox',), ('images',), ('pixel_values',), ('pixels',), ('x_pixel_values',), ('y_pixel_values',), ('harps_pixel_bbox',), ('harps_pixel_bbox_sizes',), ('cutouts_for_download',), ('flares',), ('dimmings',), ('cmes',), ('cmes_harpnums',)]\n"
     ]
    }
   ],
   "source": [
    "# Show all tables\n",
    "cur.execute(\"SELECT name FROM sqlite_master WHERE type='table';\")\n",
    "print(cur.fetchall())"
   ]
  },
  {
   "cell_type": "code",
   "execution_count": 67,
   "metadata": {},
   "outputs": [
    {
     "data": {
      "text/plain": [
       "<sqlite3.Cursor at 0x7f1f34b02ce0>"
      ]
     },
     "execution_count": 67,
     "metadata": {},
     "output_type": "execute_result"
    }
   ],
   "source": [
    "cur.execute(\"DROP TABLE IF EXISTS cmes_harpnums\")\n",
    "cur.execute(\"DROP TABLE IF EXISTS flares\")\n",
    "\n",
    "cur.execute(\"\"\"\n",
    "    CREATE TABLE IF NOT EXISTS flares (\n",
    "        flare_id INTEGER NOT NULL PRIMARY KEY,\n",
    "        HARPNUM INTEGER REFERENCES harps (harpnum),\n",
    "        flare_date TEXT NOT NULL,\n",
    "        flare_lon REAL ,\n",
    "        flare_lat REAL,\n",
    "        flare_class_score REAL NOT NULL,\n",
    "        flare_class TEXT NOT NULL,\n",
    "        flare_ar INTEGER,\n",
    "        flare_ar_source TEXT,\n",
    "        flare_verification TEXT\n",
    "        CHECK (\n",
    "        (flare_ar IS NULL AND flare_lon IS NOT NULL AND flare_lat IS NOT NULL) OR\n",
    "        (flare_ar IS NOT NULL)\n",
    "        )\n",
    "        )\n",
    "\"\"\")"
   ]
  },
  {
   "cell_type": "code",
   "execution_count": 68,
   "metadata": {},
   "outputs": [
    {
     "name": "stdout",
     "output_type": "stream",
     "text": [
      "12580 1626\n"
     ]
    }
   ],
   "source": [
    "nodupflares = flares.drop_duplicates(subset=[\"FLARE_ID\"], keep=\"first\")\n",
    "print(len(nodupflares), len(nodupflares[nodupflares[\"FLARE_CLASS_SCORE\"]>25]))"
   ]
  },
  {
   "cell_type": "code",
   "execution_count": 69,
   "metadata": {},
   "outputs": [],
   "source": [
    "# Now we need to add the rows\n",
    "\n",
    "# Drop duplicates\n",
    "for i, row in flares.drop_duplicates(subset=[\"FLARE_ID\"], keep=\"first\").iterrows():\n",
    "    cur.execute(\n",
    "        \"\"\"\n",
    "        INSERT INTO flares (flare_id, HARPNUM, flare_date, flare_lon, flare_lat, flare_class_score, flare_class, flare_ar, flare_ar_source, flare_verification)\n",
    "        VALUES (?, ?, ?, ?, ?, ?, ?, ?, ?, ?)\n",
    "        \"\"\",\n",
    "        (\n",
    "            int(row[\"FLARE_ID\"]),\n",
    "            int(row[\"HARPNUM\"]),\n",
    "            row[\"FLARE_DATE\"].iso[:-4],\n",
    "            row[\"FLARE_LON\"],\n",
    "            row[\"FLARE_LAT\"],\n",
    "            row[\"FLARE_CLASS_SCORE\"],\n",
    "            row[\"FLARE_CLASS\"],\n",
    "            row[\"FLARE_AR\"],\n",
    "            row[\"FLARE_AR_SOURCE\"],\n",
    "            row[\"FLARE_VERIFICATION\"]\n",
    "        )\n",
    "    )"
   ]
  },
  {
   "cell_type": "code",
   "execution_count": 70,
   "metadata": {},
   "outputs": [],
   "source": [
    "con.commit()"
   ]
  },
  {
   "cell_type": "code",
   "execution_count": 99,
   "metadata": {},
   "outputs": [
    {
     "data": {
      "text/plain": [
       "4541"
      ]
     },
     "execution_count": 99,
     "metadata": {},
     "output_type": "execute_result"
    }
   ],
   "source": [
    "raw_dimmings = pd.read_csv(RAW_DIMMINGS_CATALOGUE)\n",
    "\n",
    "raw_dimmings = raw_dimmings\n",
    "\n",
    "raw_dimmings.dropna(subset=[\"longitude\", \"latitude\"], inplace=True)\n",
    "\n",
    "\n",
    "len(raw_dimmings)"
   ]
  },
  {
   "cell_type": "code",
   "execution_count": 71,
   "metadata": {},
   "outputs": [
    {
     "name": "stdout",
     "output_type": "stream",
     "text": [
      "dimming_id                    int64\n",
      "start_time                   object\n",
      "end_time                     object\n",
      "last_detection_time          object\n",
      "half_value_time              object\n",
      "max_detection_time           object\n",
      "sequences                     int64\n",
      "max_detection_ratio         float64\n",
      "f_r                         float64\n",
      "avg_x                       float64\n",
      "avg_y                       float64\n",
      "avg_r                       float64\n",
      "avg_num_pixels              float64\n",
      "max_num_pixels                int64\n",
      "longitude                   float64\n",
      "latitude                    float64\n",
      "total_intensity             float64\n",
      "avg_intensity               float64\n",
      "avg_median_intensity_abs    float64\n",
      "HARPNUM                       int64\n",
      "DIMMING_HARPNUM_ID           object\n",
      "HARPS_RAW_LONDTMIN          float64\n",
      "HARPS_RAW_LATDTMIN          float64\n",
      "HARPS_RAW_LONDTMAX          float64\n",
      "HARPS_RAW_LATDTMAX          float64\n",
      "HARPS_RAW_DATE               object\n",
      "HARPS_DIMMING_DISTANCE      float64\n",
      "POSITION_SCORES             float64\n",
      "MATCH                        object\n",
      "dtype: object\n"
     ]
    }
   ],
   "source": [
    "dimmings = pd.read_pickle(DIMMINGS_MATCHED_TO_HARPS_PICKLE)\n",
    "dimmings.replace({np.nan: None}, inplace=True)\n",
    "# Print columns and data type\n",
    "print(dimmings.dtypes)"
   ]
  },
  {
   "cell_type": "code",
   "execution_count": 102,
   "metadata": {},
   "outputs": [
    {
     "data": {
      "text/plain": [
       "2591"
      ]
     },
     "execution_count": 102,
     "metadata": {},
     "output_type": "execute_result"
    }
   ],
   "source": [
    "len(dimmings[dimmings[\"MATCH\"]])"
   ]
  },
  {
   "cell_type": "code",
   "execution_count": 72,
   "metadata": {},
   "outputs": [
    {
     "data": {
      "text/plain": [
       "<sqlite3.Cursor at 0x7f1f34b02ce0>"
      ]
     },
     "execution_count": 72,
     "metadata": {},
     "output_type": "execute_result"
    }
   ],
   "source": [
    "cur.execute(\"DROP TABLE IF EXISTS dimmings\")\n",
    "\n",
    "cur.execute(\"\"\"\n",
    "    CREATE TABLE IF NOT EXISTS dimmings (\n",
    "        dimming_id INTEGER NOT NULL PRIMARY KEY,\n",
    "        harpnum INTEGER REFERENCES harps (harpnum),\n",
    "        harps_dimming_dist REAL NOT NULL,\n",
    "        dimming_start_date TEXT NOT NULL,\n",
    "        dimming_peak_date TEXT NOT NULL,\n",
    "        dimming_lon REAL NOT NULL,\n",
    "        dimming_lat REAL NOT NULL\n",
    "    );\n",
    "\"\"\")"
   ]
  },
  {
   "cell_type": "code",
   "execution_count": 73,
   "metadata": {},
   "outputs": [],
   "source": [
    "# Now need to add the dimmings\n",
    "\n",
    "for i, row in dimmings[dimmings[\"MATCH\"]].iterrows():\n",
    "    cur.execute(\n",
    "        \"\"\"\n",
    "        INSERT INTO dimmings (dimming_id, harpnum, harps_dimming_dist, dimming_start_date, dimming_peak_date, dimming_lon, dimming_lat)\n",
    "        VALUES (?, ?, ?, ?, ?, ?, ?)\n",
    "        \"\"\",\n",
    "        (\n",
    "            int(row[\"dimming_id\"]),\n",
    "            int(row[\"HARPNUM\"]),\n",
    "            row[\"HARPS_DIMMING_DISTANCE\"],\n",
    "            row[\"start_time\"].split(\".\")[0],\n",
    "            row[\"max_detection_time\"].iso[:-4],\n",
    "            row[\"longitude\"],\n",
    "            row[\"latitude\"]\n",
    "        )\n",
    "    )"
   ]
  },
  {
   "cell_type": "code",
   "execution_count": 74,
   "metadata": {},
   "outputs": [],
   "source": [
    "con.commit()"
   ]
  },
  {
   "cell_type": "code",
   "execution_count": 75,
   "metadata": {},
   "outputs": [
    {
     "name": "stdout",
     "output_type": "stream",
     "text": [
      "CME_ID                         object\n",
      "CME_DATE                       object\n",
      "CME_PA                         object\n",
      "CME_WIDTH                       int64\n",
      "CME_LINEAR_SPEED               object\n",
      "CME_2ND_ORDER_INITIAL_SPEED    object\n",
      "CME_2ND_ORDER_FINAL_SPEED      object\n",
      "CME_2ND_ORDER_20R_SPEED        object\n",
      "CME_ACCELERATION               object\n",
      "CME_MASS                       object\n",
      "CME_KINETIC_ENERGY             object\n",
      "CME_MPA                         int64\n",
      "CME_HALO                        int64\n",
      "CME_SEEN_IN                     int64\n",
      "CME_QUALITY                     int64\n",
      "CME_THREE_POINTS                int64\n",
      "dtype: object\n"
     ]
    }
   ],
   "source": [
    "cmes = pd.read_csv(LASCO_CME_DATABASE)\n",
    "cmes.replace({np.nan: None}, inplace=True)\n",
    "# Print columns and data type\n",
    "print(cmes.dtypes)"
   ]
  },
  {
   "cell_type": "code",
   "execution_count": 76,
   "metadata": {},
   "outputs": [
    {
     "data": {
      "text/plain": [
       "13311"
      ]
     },
     "execution_count": 76,
     "metadata": {},
     "output_type": "execute_result"
    }
   ],
   "source": [
    "no_poor_cmes = cmes[cmes[\"CME_QUALITY\"] == 0]\n",
    "len(no_poor_cmes)"
   ]
  },
  {
   "cell_type": "code",
   "execution_count": 10,
   "metadata": {},
   "outputs": [
    {
     "name": "stdout",
     "output_type": "stream",
     "text": [
      "(14968, 34) (4139,)\n"
     ]
    }
   ],
   "source": [
    "# I want to know for how many CMEs there are matching HARPs\n",
    "\n",
    "spat_harps = pd.read_pickle(SPATIOTEMPORAL_MATCHING_HARPS_DATABASE_PICKLE)\n",
    "print(spat_harps[spat_harps[\"HARPS_SPAT_CONSIST\"]][\"CME_ID\"].unique().shape, spat_harps[\"CME_ID\"].unique().shape)"
   ]
  },
  {
   "cell_type": "code",
   "execution_count": 13,
   "metadata": {},
   "outputs": [
    {
     "data": {
      "text/html": [
       "<div>\n",
       "<style scoped>\n",
       "    .dataframe tbody tr th:only-of-type {\n",
       "        vertical-align: middle;\n",
       "    }\n",
       "\n",
       "    .dataframe tbody tr th {\n",
       "        vertical-align: top;\n",
       "    }\n",
       "\n",
       "    .dataframe thead th {\n",
       "        text-align: right;\n",
       "    }\n",
       "</style>\n",
       "<table border=\"1\" class=\"dataframe\">\n",
       "  <thead>\n",
       "    <tr style=\"text-align: right;\">\n",
       "      <th></th>\n",
       "      <th>CME_ID</th>\n",
       "      <th>HARPNUM</th>\n",
       "    </tr>\n",
       "    <tr>\n",
       "      <th>CME_HARPNUM_ID</th>\n",
       "      <th></th>\n",
       "      <th></th>\n",
       "    </tr>\n",
       "  </thead>\n",
       "  <tbody>\n",
       "    <tr>\n",
       "      <th>ID201005010048055</th>\n",
       "      <td>ID20100501004805</td>\n",
       "      <td>5</td>\n",
       "    </tr>\n",
       "    <tr>\n",
       "      <th>ID201005010048056</th>\n",
       "      <td>ID20100501004805</td>\n",
       "      <td>6</td>\n",
       "    </tr>\n",
       "    <tr>\n",
       "      <th>ID201005010712055</th>\n",
       "      <td>ID20100501071205</td>\n",
       "      <td>5</td>\n",
       "    </tr>\n",
       "    <tr>\n",
       "      <th>ID201005010712056</th>\n",
       "      <td>ID20100501071205</td>\n",
       "      <td>6</td>\n",
       "    </tr>\n",
       "    <tr>\n",
       "      <th>ID201005021930051</th>\n",
       "      <td>ID20100502193005</td>\n",
       "      <td>1</td>\n",
       "    </tr>\n",
       "    <tr>\n",
       "      <th>ID201005021930052</th>\n",
       "      <td>ID20100502193005</td>\n",
       "      <td>2</td>\n",
       "    </tr>\n",
       "    <tr>\n",
       "      <th>ID201005021930058</th>\n",
       "      <td>ID20100502193005</td>\n",
       "      <td>8</td>\n",
       "    </tr>\n",
       "    <tr>\n",
       "      <th>ID201005031331411</th>\n",
       "      <td>ID20100503133141</td>\n",
       "      <td>1</td>\n",
       "    </tr>\n",
       "    <tr>\n",
       "      <th>ID201005031331412</th>\n",
       "      <td>ID20100503133141</td>\n",
       "      <td>2</td>\n",
       "    </tr>\n",
       "    <tr>\n",
       "      <th>ID201005031331418</th>\n",
       "      <td>ID20100503133141</td>\n",
       "      <td>8</td>\n",
       "    </tr>\n",
       "  </tbody>\n",
       "</table>\n",
       "</div>"
      ],
      "text/plain": [
       "                             CME_ID  HARPNUM\n",
       "CME_HARPNUM_ID                              \n",
       "ID201005010048055  ID20100501004805        5\n",
       "ID201005010048056  ID20100501004805        6\n",
       "ID201005010712055  ID20100501071205        5\n",
       "ID201005010712056  ID20100501071205        6\n",
       "ID201005021930051  ID20100502193005        1\n",
       "ID201005021930052  ID20100502193005        2\n",
       "ID201005021930058  ID20100502193005        8\n",
       "ID201005031331411  ID20100503133141        1\n",
       "ID201005031331412  ID20100503133141        2\n",
       "ID201005031331418  ID20100503133141        8"
      ]
     },
     "execution_count": 13,
     "metadata": {},
     "output_type": "execute_result"
    }
   ],
   "source": [
    "spat_harps[~spat_harps[\"HARPS_SPAT_CONSIST\"]][[\"CME_ID\", \"HARPNUM\"]].head(10)"
   ]
  },
  {
   "cell_type": "code",
   "execution_count": 7,
   "metadata": {},
   "outputs": [],
   "source": [
    "cur.execute(\"DROP TABLE IF EXISTS spat_consist_harpnums\")\n",
    "\n",
    "cur.execute(\"\"\"\n",
    "    CREATE TABLE IF NOT EXISTS spat_consist_harpnums (\n",
    "        harpnum INTEGER REFERENCES harps (harpnum),\n",
    "        cme_id INTEGER REFERENCES cmes (cme_id),\n",
    "        PRIMARY KEY (harpnum, cme_id)\n",
    "        )\n",
    "        \"\"\")\n",
    "\n",
    "\n",
    "for idx, row in spat_harps[spat_harps[\"HARPS_SPAT_CONSIST\"]].iterrows():\n",
    "    if row[\"HARPS_SPAT_CONSIST\"]:\n",
    "        cur.execute(\n",
    "            \"\"\"\n",
    "            INSERT INTO spat_consist_harpnums (harpnum, cme_id)\n",
    "            VALUES (?, ?)\n",
    "            \"\"\",\n",
    "            (\n",
    "                int(row[\"HARPNUM\"]),\n",
    "                int(row[\"CME_ID\"][2:])\n",
    "            )\n",
    "        )"
   ]
  },
  {
   "cell_type": "code",
   "execution_count": 9,
   "metadata": {},
   "outputs": [],
   "source": [
    "con.commit()"
   ]
  },
  {
   "cell_type": "code",
   "execution_count": 78,
   "metadata": {},
   "outputs": [
    {
     "data": {
      "text/plain": [
       "<sqlite3.Cursor at 0x7f1f34b02ce0>"
      ]
     },
     "execution_count": 78,
     "metadata": {},
     "output_type": "execute_result"
    }
   ],
   "source": [
    "# CME_ID                     \n",
    "# CME_DATE                   \n",
    "# CME_PA                     \n",
    "# CME_WIDTH                  \n",
    "# CME_HALO int            \n",
    "# CME_SEEN_IN int\n",
    "# CME_QUALITY int      \n",
    "# CME_THREE_POINTS  int          \n",
    "\n",
    "cur.execute(\"DROP TABLE IF EXISTS cmes\")\n",
    "\n",
    "cur.execute(\"\"\"\n",
    "    CREATE TABLE IF NOT EXISTS cmes (\n",
    "        cme_id INTEGER NOT NULL PRIMARY KEY,\n",
    "        cme_date TEXT NOT NULL,\n",
    "        cme_pa REAL,\n",
    "        cme_width REAL NOT NULL,\n",
    "        cme_halo INTEGER,\n",
    "        cme_seen_in INTEGER NOT NULL,\n",
    "        cme_quality INTEGER NOT NULL,\n",
    "        cme_three_points INTEGER NOT NULL\n",
    "        CHECK (\n",
    "        ((cme_pa IS NULL) = (cme_halo = 1))\n",
    "        )\n",
    "    );\n",
    "\"\"\")"
   ]
  },
  {
   "cell_type": "code",
   "execution_count": 79,
   "metadata": {},
   "outputs": [],
   "source": [
    "for i, row in cmes.drop_duplicates(subset=[\"CME_ID\"], keep=\"first\").iterrows():\n",
    "    cur.execute(\n",
    "        \"\"\"\n",
    "        INSERT INTO cmes (cme_id, cme_date, cme_pa, cme_width, cme_halo, cme_seen_in, cme_quality, cme_three_points)\n",
    "        VALUES (?, ?, ?, ?, ?, ?, ?, ?)\n",
    "        \"\"\",\n",
    "        (\n",
    "            int(row[\"CME_ID\"][2:]),\n",
    "            row[\"CME_DATE\"],\n",
    "            row[\"CME_PA\"],\n",
    "            row[\"CME_WIDTH\"],\n",
    "            row[\"CME_HALO\"],\n",
    "            row[\"CME_SEEN_IN\"],\n",
    "            row[\"CME_QUALITY\"],\n",
    "            row[\"CME_THREE_POINTS\"]\n",
    "        )\n",
    "    )"
   ]
  },
  {
   "cell_type": "code",
   "execution_count": 80,
   "metadata": {},
   "outputs": [],
   "source": [
    "con.commit()"
   ]
  },
  {
   "cell_type": "code",
   "execution_count": 81,
   "metadata": {},
   "outputs": [
    {
     "name": "stdout",
     "output_type": "stream",
     "text": [
      "CME_ID                          object\n",
      "CME_HARPNUM_ID                  object\n",
      "CME_DATE                        object\n",
      "HARPNUM                          int64\n",
      "CME_PA                          object\n",
      "CME_WIDTH                        int64\n",
      "CME_LINEAR_SPEED                object\n",
      "CME_2ND_ORDER_INITIAL_SPEED     object\n",
      "CME_2ND_ORDER_FINAL_SPEED       object\n",
      "CME_2ND_ORDER_20R_SPEED         object\n",
      "CME_ACCELERATION                object\n",
      "CME_MASS                        object\n",
      "CME_KINETIC_ENERGY              object\n",
      "CME_MPA                          int64\n",
      "CME_HALO                         int64\n",
      "CME_SEEN_IN                      int64\n",
      "CME_QUALITY                      int64\n",
      "CME_THREE_POINTS                 int64\n",
      "HARPS_RAW_LONDTMIN              object\n",
      "HARPS_RAW_LATDTMIN              object\n",
      "HARPS_RAW_LONDTMAX              object\n",
      "HARPS_RAW_LATDTMAX              object\n",
      "HARPS_RAW_DATE                  object\n",
      "HARPS_DATE                      object\n",
      "HARPS_MIDPOINT                  object\n",
      "HARPS_DISTANCE_TO_SUN_CENTRE    object\n",
      "HARPS_PA                        object\n",
      "CME_HARPS_PA_DIFF               object\n",
      "HARPS_RAW_BBOX                  object\n",
      "HARPS_LONDTMIN                  object\n",
      "HARPS_LATDTMIN                  object\n",
      "HARPS_LONDTMAX                  object\n",
      "HARPS_LATDTMAX                  object\n",
      "HARPS_SPAT_CONSIST                bool\n",
      "FLARE_CLASS                     object\n",
      "FLARE_FLAG                      object\n",
      "FLARE_MATCH                     object\n",
      "FLARE_CLASS_FLAG                object\n",
      "DIMMING_MATCH                   object\n",
      "DIMMING_FLAG                    object\n",
      "dtype: object\n"
     ]
    }
   ],
   "source": [
    "main_database = pd.read_pickle(MAIN_DATABASE_PICKLE)\n",
    "main_database.replace({np.nan: None}, inplace=True)\n",
    "# Print columns and data type\n",
    "print(main_database.dtypes)"
   ]
  },
  {
   "cell_type": "code",
   "execution_count": 82,
   "metadata": {},
   "outputs": [
    {
     "name": "stdout",
     "output_type": "stream",
     "text": [
      "35822\n",
      "39961\n"
     ]
    }
   ],
   "source": [
    "print(main_database.duplicated(subset=[\"CME_ID\"], keep=\"first\").sum())\n",
    "print(len(main_database))"
   ]
  },
  {
   "cell_type": "code",
   "execution_count": 83,
   "metadata": {},
   "outputs": [],
   "source": [
    "def sum_points(row):\n",
    "    points = 0\n",
    "    if row[\"FLARE_MATCH\"] is not None:\n",
    "        points += 1\n",
    "    if row[\"DIMMING_MATCH\"] is not None:\n",
    "        points += 1\n",
    "    \n",
    "    return points\n",
    "\n",
    "main_database[\"POINTS\"] = main_database.apply(sum_points, axis=1)"
   ]
  },
  {
   "cell_type": "code",
   "execution_count": 87,
   "metadata": {},
   "outputs": [
    {
     "data": {
      "text/plain": [
       "4139"
      ]
     },
     "execution_count": 87,
     "metadata": {},
     "output_type": "execute_result"
    }
   ],
   "source": [
    "sorted_main = main_database.sort_values(by=[\"CME_ID\", \"POINTS\", \"FLARE_CLASS\"], ascending=[True, False, False])\n",
    "sorted_main_no_duplicates = sorted_main.drop_duplicates(subset=[\"CME_ID\"], keep=\"first\")"
   ]
  },
  {
   "cell_type": "code",
   "execution_count": 106,
   "metadata": {},
   "outputs": [],
   "source": [
    "sorted_mask_main_no_duplicates = sorted_main_no_duplicates[sorted_main_no_duplicates[\"HARPS_SPAT_CONSIST\"]]"
   ]
  },
  {
   "cell_type": "code",
   "execution_count": 107,
   "metadata": {},
   "outputs": [
    {
     "name": "stdout",
     "output_type": "stream",
     "text": [
      "(378, 42)\n",
      "(702, 42)\n"
     ]
    },
    {
     "name": "stderr",
     "output_type": "stream",
     "text": [
      "/tmp/ipykernel_19627/191293784.py:21: SettingWithCopyWarning: \n",
      "A value is trying to be set on a copy of a slice from a DataFrame.\n",
      "Try using .loc[row_indexer,col_indexer] = value instead\n",
      "\n",
      "See the caveats in the documentation: https://pandas.pydata.org/pandas-docs/stable/user_guide/indexing.html#returning-a-view-versus-a-copy\n",
      "  sorted_mask_main_no_duplicates[\"FLARE_CLASS_POINTS\"] = sorted_mask_main_no_duplicates[\"FLARE_CLASS\"].apply(flare_class_to_number)\n"
     ]
    }
   ],
   "source": [
    "def flare_class_to_number(fclass):\n",
    "    class_letters = {\n",
    "        \"A\": 0,\n",
    "        \"B\": 10,\n",
    "        \"C\": 20,\n",
    "        \"M\": 30,\n",
    "        \"X\": 40,\n",
    "    }\n",
    "    if fclass is None:\n",
    "        return 0\n",
    "\n",
    "    letter = fclass[0]\n",
    "\n",
    "    points = class_letters[letter]\n",
    "\n",
    "    points += float(fclass[1:])\n",
    "\n",
    "    return points\n",
    "\n",
    "\n",
    "sorted_mask_main_no_duplicates[\"FLARE_CLASS_POINTS\"] = sorted_mask_main_no_duplicates[\"FLARE_CLASS\"].apply(flare_class_to_number)\n",
    "\n",
    "# How many flares there are with class larger than 25?\n",
    "\n",
    "print(sorted_mask_main_no_duplicates[sorted_mask_main_no_duplicates[\"FLARE_CLASS_POINTS\"] > 25].shape)\n",
    "\n",
    "# What about flares with class > 0 but < 25?\n",
    "\n",
    "print(sorted_mask_main_no_duplicates[(sorted_mask_main_no_duplicates[\"FLARE_CLASS_POINTS\"] > 0) & (sorted_mask_main_no_duplicates[\"FLARE_CLASS_POINTS\"] < 25)].shape)\n"
   ]
  },
  {
   "cell_type": "code",
   "execution_count": 108,
   "metadata": {},
   "outputs": [
    {
     "name": "stdout",
     "output_type": "stream",
     "text": [
      "(466, 42)\n"
     ]
    }
   ],
   "source": [
    "# Now how many dimmings?\n",
    "\n",
    "# Doing this\n",
    "# print(sorted_main_no_duplicates[sorted_main_no_duplicates[\"DIMMING_MATCH\"]].shape)\n",
    "# Doesn't work\n",
    "\n",
    "# So I need to do this\n",
    "print(sorted_mask_main_no_duplicates[sorted_mask_main_no_duplicates[\"DIMMING_MATCH\"].notnull()].shape)"
   ]
  },
  {
   "cell_type": "code",
   "execution_count": 85,
   "metadata": {},
   "outputs": [
    {
     "data": {
      "text/plain": [
       "<sqlite3.Cursor at 0x7f1f34b02ce0>"
      ]
     },
     "execution_count": 85,
     "metadata": {},
     "output_type": "execute_result"
    }
   ],
   "source": [
    "cur.execute(\"DROP TABLE IF EXISTS cmes_harpnums\")\n",
    "\n",
    "cur.execute(\"\"\"\n",
    "    CREATE TABLE IF NOT EXISTS cmes_harpnums (\n",
    "        cme_id INTEGER NOT NULL REFERENCES cmes (cme_id) PRIMARY KEY,\n",
    "        harpnum INTEGER NOT NULL REFERENCES harps (harpnum),\n",
    "        flare_id INTEGER REFERENCES flares (flare_id),\n",
    "        dimming_id INTEGER REFERENCES dimmings (dimming_id),\n",
    "        harps_spat_consist INTEGER NOT NULL\n",
    "    );\n",
    "    \"\"\")"
   ]
  },
  {
   "cell_type": "code",
   "execution_count": 86,
   "metadata": {},
   "outputs": [],
   "source": [
    "for i, row in sorted_main_no_duplicates.iterrows():\n",
    "    cur.execute(\n",
    "        \"\"\"\n",
    "        INSERT INTO cmes_harpnums (cme_id, harpnum, flare_id, dimming_id, harps_spat_consist)\n",
    "        VALUES (?, ?, ?, ?, ?)\n",
    "        \"\"\",\n",
    "        (\n",
    "            row[\"CME_ID\"][2:],\n",
    "            row[\"HARPNUM\"],\n",
    "            row[\"FLARE_MATCH\"],\n",
    "            row[\"DIMMING_MATCH\"],\n",
    "            int(row[\"HARPS_SPAT_CONSIST\"])\n",
    "        )\n",
    "    )"
   ]
  },
  {
   "cell_type": "code",
   "execution_count": 40,
   "metadata": {},
   "outputs": [],
   "source": [
    "con.commit()"
   ]
  },
  {
   "cell_type": "code",
   "execution_count": 41,
   "metadata": {},
   "outputs": [],
   "source": [
    "con.close()"
   ]
  },
  {
   "cell_type": "code",
   "execution_count": 43,
   "metadata": {},
   "outputs": [],
   "source": [
    "con = sqlite3.connect(CMESRC_DB)\n",
    "con.execute(\"PRAGMA foreign_keys = ON\")\n",
    "cur = con.cursor()"
   ]
  },
  {
   "cell_type": "code",
   "execution_count": 47,
   "metadata": {},
   "outputs": [
    {
     "name": "stdout",
     "output_type": "stream",
     "text": [
      "[(4133,)]\n"
     ]
    }
   ],
   "source": [
    "cur.execute(\"SELECT COUNT(*) FROM cmes_harpnums\")\n",
    "print(cur.fetchall())"
   ]
  },
  {
   "cell_type": "code",
   "execution_count": 111,
   "metadata": {},
   "outputs": [],
   "source": [
    "cur.execute(\"DROP TABLE IF EXISTS matches\")\n",
    "cur.execute(\"\"\"\n",
    "    CREATE TEMPORARY TABLE IF NOT EXISTS matches AS\n",
    "    SELECT cmes.cme_date, cmes_harpnums.cme_id, cmes_harpnums.harpnum, cmes_harpnums.flare_id, cmes_harpnums.dimming_id, flares.flare_class_score\n",
    "    FROM cmes_harpnums\n",
    "    INNER JOIN cmes ON cmes_harpnums.cme_id = cmes.cme_id\n",
    "    INNER JOIN flares ON cmes_harpnums.flare_id = flares.flare_id\n",
    "    WHERE cmes_harpnums.flare_id IS NOT NULL AND cmes_harpnums.dimming_id IS NOT NULL AND flares.flare_class_score > 0 AND harps_spat_consist = 1\n",
    "\"\"\")\n",
    "con.commit()\n",
    "\n",
    "# Create matches_with_coordinates table with same structure as matches, plus latitude and longitude\n",
    "cur.execute(\"DROP TABLE IF EXISTS matches_with_coordinates\")\n",
    "cur.execute(\"\"\"\n",
    "    CREATE TEMPORARY TABLE matches_with_coordinates (\n",
    "        cme_date TEXT,\n",
    "        cme_id TEXT,\n",
    "        harpnum TEXT,\n",
    "        flare_id TEXT,\n",
    "        dimming_id TEXT,\n",
    "        flare_class_score REAL,\n",
    "        longitude REAL,\n",
    "        latitude REAL\n",
    "    )\n",
    "\"\"\")\n",
    "\n",
    "# Fetch all rows from matches table\n",
    "cur.execute(\"SELECT * FROM matches\")\n",
    "matches_rows = cur.fetchall()\n",
    "\n",
    "# For each row in matches table, find coordinates and insert into matches_with_coordinates\n",
    "for row in matches_rows:\n",
    "    cur.execute(\"\"\"\n",
    "        SELECT (LONDTMIN + LONDTMAX)/2 as longitude, (LATDTMIN + LATDTMAX)/2 as latitude\n",
    "        FROM harps_bbox\n",
    "        WHERE harpnum = ?\n",
    "        ORDER BY ABS(strftime('%s', timestamp) - strftime('%s', ?)) \n",
    "        LIMIT 1\n",
    "    \"\"\", (row[2], row[0])) # row[2] is harpnum, row[0] is cme_date\n",
    "    coordinates = cur.fetchone()\n",
    "    if coordinates is not None:\n",
    "        # Append coordinates to the row and insert into matches_with_coordinates\n",
    "        row_with_coordinates = row + coordinates\n",
    "        cur.execute(\"\"\"\n",
    "            INSERT INTO matches_with_coordinates \n",
    "            VALUES (?, ?, ?, ?, ?, ?, ?, ?)\n",
    "        \"\"\", row_with_coordinates)\n",
    "        con.commit()"
   ]
  },
  {
   "cell_type": "code",
   "execution_count": 112,
   "metadata": {},
   "outputs": [
    {
     "name": "stdout",
     "output_type": "stream",
     "text": [
      "286\n"
     ]
    }
   ],
   "source": [
    "cur.execute(\"SELECT COUNT(*) FROM matches\")\n",
    "print(cur.fetchone()[0])"
   ]
  },
  {
   "cell_type": "code",
   "execution_count": 66,
   "metadata": {},
   "outputs": [
    {
     "data": {
      "text/plain": [
       "Text(0, 0.5, 'Frequency')"
      ]
     },
     "execution_count": 66,
     "metadata": {},
     "output_type": "execute_result"
    },
    {
     "data": {
      "image/png": "[encoded data removed]",
      "text/plain": [
       "<Figure size 1000x1000 with 2 Axes>"
      ]
     },
     "metadata": {},
     "output_type": "display_data"
    }
   ],
   "source": [
    "# Plot distribution of longitude and latitude\n",
    "\n",
    "cur.execute(\"SELECT longitude, latitude FROM matches_with_coordinates\")\n",
    "coordinates = cur.fetchall()\n",
    "coordinates = np.array(coordinates)\n",
    "\n",
    "plt.figure(figsize=(10, 10))\n",
    "\n",
    "plt.subplot(2, 1, 1)\n",
    "plt.hist(coordinates[:, 0], bins=10)\n",
    "plt.xlabel(\"Longitude\")\n",
    "plt.ylabel(\"Frequency\")\n",
    "\n",
    "plt.subplot(2, 1, 2)\n",
    "plt.hist(coordinates[:, 1], bins=10)\n",
    "plt.xlabel(\"Latitude\")\n",
    "plt.ylabel(\"Frequency\")\n"
   ]
  },
  {
   "cell_type": "code",
   "execution_count": 113,
   "metadata": {},
   "outputs": [
    {
     "name": "stdout",
     "output_type": "stream",
     "text": [
      "There are 31944 CMEs in the database.\n",
      "There are 12580 flares in the database.\n",
      "There are 2591 dimmings in the database.\n"
     ]
    }
   ],
   "source": [
    "# HOw many cmes there are, print with message\n",
    "cur.execute(\"SELECT COUNT(*) FROM cmes\")\n",
    "print(\"There are {} CMEs in the database.\".format(cur.fetchone()[0]))\n",
    "\n",
    "# Now flares, that are not 'Non-verified'\n",
    "cur.execute(\"SELECT COUNT(*) FROM flares WHERE flare_class != 'Non-verified'\")\n",
    "print(\"There are {} flares in the database.\".format(cur.fetchone()[0]))\n",
    "\n",
    "# Now dimmings\n",
    "cur.execute(\"SELECT COUNT(*) FROM dimmings\")\n",
    "print(\"There are {} dimmings in the database.\".format(cur.fetchone()[0]))"
   ]
  },
  {
   "cell_type": "code",
   "execution_count": 114,
   "metadata": {},
   "outputs": [
    {
     "name": "stdout",
     "output_type": "stream",
     "text": [
      "There are 0 class A flares, 4762 class B flares, 7063 class C flares, 707 class M flares and 48 class X flares.\n",
      "There are 10918 flares with score less than 25.\n",
      "There are 1662 flares with score more than 25.\n"
     ]
    }
   ],
   "source": [
    "# Get all flares scores\n",
    "\n",
    "cur.execute(\"SELECT flare_class_score FROM flares\")\n",
    "flare_scores = np.array(cur.fetchall())\n",
    "\n",
    "# Score 0-9 is class A, score 10-19 is class B, score 20-29 is class C, score 30-39 is class M, score 40- is class X\n",
    "# Calculate how many flares there are of each class\n",
    "flare_class_a = np.sum(flare_scores < 10)\n",
    "flare_class_b = np.sum((flare_scores >= 10) & (flare_scores < 20))\n",
    "flare_class_c = np.sum((flare_scores >= 20) & (flare_scores < 30))\n",
    "flare_class_m = np.sum((flare_scores >= 30) & (flare_scores < 40))\n",
    "flare_class_x = np.sum(flare_scores >= 40)\n",
    "\n",
    "# Print the results in formatted string\n",
    "print(\"There are {} class A flares, {} class B flares, {} class C flares, {} class M flares and {} class X flares.\".format(\n",
    "    flare_class_a, flare_class_b, flare_class_c, flare_class_m, flare_class_x\n",
    "))\n",
    "\n",
    "\n",
    "# Now, how many flare with less than 25 and more than 25\n",
    "\n",
    "cur.execute(\"SELECT COUNT(*) FROM flares WHERE flare_class_score < 25\")\n",
    "print(\"There are {} flares with score less than 25.\".format(cur.fetchone()[0]))\n",
    "\n",
    "cur.execute(\"SELECT COUNT(*) FROM flares WHERE flare_class_score >= 25\")\n",
    "print(\"There are {} flares with score more than 25.\".format(cur.fetchone()[0]))\n"
   ]
  },
  {
   "cell_type": "code",
   "execution_count": 118,
   "metadata": {},
   "outputs": [
    {
     "name": "stdout",
     "output_type": "stream",
     "text": [
      "There are 155 matches with flare, dimming and flare score more than 25.\n"
     ]
    }
   ],
   "source": [
    "# Number of matches with flare, dimming and flare score more than 25?\n",
    "\n",
    "cur.execute(\"\"\"\n",
    "    SELECT COUNT(*)\n",
    "    FROM cmes_harpnums\n",
    "    INNER JOIN cmes ON cmes_harpnums.cme_id = cmes.cme_id\n",
    "    INNER JOIN flares ON cmes_harpnums.flare_id = flares.flare_id\n",
    "    WHERE cmes_harpnums.flare_id IS NOT NULL AND cmes_harpnums.dimming_id IS NOT NULL AND flares.flare_class_score > 25 AND harps_spat_consist = 1\n",
    "\"\"\")\n",
    "\n",
    "print(\"There are {} matches with flare, dimming and flare score more than 25.\".format(cur.fetchone()[0]))"
   ]
  },
  {
   "cell_type": "code",
   "execution_count": 121,
   "metadata": {},
   "outputs": [
    {
     "name": "stdout",
     "output_type": "stream",
     "text": [
      "There are 1083 matches with flare, dimming and flare score less than 25.\n"
     ]
    }
   ],
   "source": [
    "# Now with dimming, flare but flare score less than 25\n",
    "\n",
    "cur.execute(\"\"\"\n",
    "    SELECT COUNT(*)\n",
    "    FROM cmes_harpnums\n",
    "    INNER JOIN cmes ON cmes_harpnums.cme_id = cmes.cme_id\n",
    "    INNER JOIN flares ON cmes_harpnums.flare_id = flares.flare_id\n",
    "    WHERE cmes_harpnums.flare_id IS NOT NULL AND cmes_harpnums.dimming_id IS NOT NULL AND flares.flare_class_score < 25 AND harps_spat_consist = 1\n",
    "\"\"\")\n",
    "\n",
    "print(\"There are {} matches with flare, dimming and flare score less than 25.\".format(cur.fetchone()[0]))"
   ]
  },
  {
   "cell_type": "code",
   "execution_count": 88,
   "metadata": {},
   "outputs": [
    {
     "name": "stdout",
     "output_type": "stream",
     "text": [
      "There are 336 matches with flare, no dimming and flare score more than 25.\n",
      "There are 1401 matches with flare, no dimming and flare score less than 25.\n"
     ]
    }
   ],
   "source": [
    "# Now with flare but no dimming and class > 25 and < 25\n",
    "\n",
    "cur.execute(\"\"\"\n",
    "    SELECT COUNT(*)\n",
    "    FROM cmes_harpnums\n",
    "    INNER JOIN cmes ON cmes_harpnums.cme_id = cmes.cme_id\n",
    "    INNER JOIN flares ON cmes_harpnums.flare_id = flares.flare_id\n",
    "    WHERE cmes_harpnums.flare_id IS NOT NULL AND cmes_harpnums.dimming_id IS NULL AND flares.flare_class_score > 25\n",
    "\"\"\")\n",
    "\n",
    "print(\"There are {} matches with flare, no dimming and flare score more than 25.\".format(cur.fetchone()[0]))\n",
    "\n",
    "cur.execute(\"\"\"\n",
    "    SELECT COUNT(*)\n",
    "    FROM cmes_harpnums\n",
    "    INNER JOIN cmes ON cmes_harpnums.cme_id = cmes.cme_id\n",
    "    INNER JOIN flares ON cmes_harpnums.flare_id = flares.flare_id\n",
    "    WHERE cmes_harpnums.flare_id IS NOT NULL AND cmes_harpnums.dimming_id IS NULL AND flares.flare_class_score < 25\n",
    "\"\"\")\n",
    "\n",
    "print(\"There are {} matches with flare, no dimming and flare score less than 25.\".format(cur.fetchone()[0]))"
   ]
  },
  {
   "cell_type": "code",
   "execution_count": 91,
   "metadata": {},
   "outputs": [
    {
     "name": "stdout",
     "output_type": "stream",
     "text": [
      "There are 0 matches with dimming and no flare.\n"
     ]
    }
   ],
   "source": [
    "# And now dimming with no flare\n",
    "\n",
    "cur.execute(\"\"\"\n",
    "    SELECT COUNT(*)\n",
    "    FROM cmes_harpnums\n",
    "    INNER JOIN cmes ON cmes_harpnums.cme_id = cmes.cme_id\n",
    "    INNER JOIN flares ON cmes_harpnums.flare_id = flares.flare_id\n",
    "    WHERE cmes_harpnums.flare_id IS NULL AND cmes_harpnums.dimming_id IS NOT NULL\n",
    "\"\"\")\n",
    "print(\"There are {} matches with dimming and no flare.\".format(cur.fetchone()[0]))"
   ]
  },
  {
   "cell_type": "code",
   "execution_count": null,
   "metadata": {},
   "outputs": [],
   "source": []
  }
 ],
 "metadata": {
  "kernelspec": {
   "display_name": "env",
   "language": "python",
   "name": "python3"
  },
  "language_info": {
   "codemirror_mode": {
    "name": "ipython",
    "version": 3
   },
   "file_extension": ".py",
   "mimetype": "text/x-python",
   "name": "python",
   "nbconvert_exporter": "python",
   "pygments_lexer": "ipython3",
   "version": "3.9.12"
  },
  "orig_nbformat": 4
 },
 "nbformat": 4,
 "nbformat_minor": 2
}
