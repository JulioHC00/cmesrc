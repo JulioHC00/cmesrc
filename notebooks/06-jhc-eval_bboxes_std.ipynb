{
 "cells": [
  {
   "cell_type": "code",
   "execution_count": null,
   "metadata": {},
   "outputs": [],
   "source": [
    "import os\n",
    "\n",
    "# Add root directory to python path\n",
    "import sys\n",
    "from tqdm import tqdm\n",
    "sys.path.append(os.path.abspath(os.path.join(os.getcwd(), os.pardir)))\n",
    "\n",
    "from src.cmesrc.utils import filepaths_updated_swan_data, read_SWAN_filepath\n",
    "\n",
    "import matplotlib.pyplot as plt\n",
    "import numpy as np\n",
    "import pandas as pd\n",
    "import seaborn"
   ]
  },
  {
   "cell_type": "code",
   "execution_count": 2,
   "metadata": {},
   "outputs": [
    {
     "name": "stdout",
     "output_type": "stream",
     "text": [
      "\u001b[H\u001b[2J\n",
      "==CACHING SWAN DATA.==\n",
      "\n"
     ]
    },
    {
     "name": "stderr",
     "output_type": "stream",
     "text": [
      "100%|██████████| 4098/4098 [00:00<00:00, 1103296.60it/s]"
     ]
    },
    {
     "name": "stdout",
     "output_type": "stream",
     "text": [
      "\u001b[H\u001b[2J"
     ]
    },
    {
     "name": "stderr",
     "output_type": "stream",
     "text": [
      "\n"
     ]
    }
   ],
   "source": [
    "SWAN = filepaths_updated_swan_data()"
   ]
  },
  {
   "cell_type": "code",
   "execution_count": null,
   "metadata": {},
   "outputs": [],
   "source": [
    "mean_dlons = []\n",
    "mean_dlats = []\n",
    "std_dlons = []\n",
    "std_dlats = []\n",
    "suspicious = []\n",
    "\n",
    "for harpnum, filepath in tqdm(SWAN.items()):\n",
    "    df = pd.read_csv(filepath, sep=\"\\t\")\n",
    "\n",
    "    df[\"CENTRE_LON\"] = (df[\"LONDTMIN\"] + df[\"LONDTMAX\"]) / 2\n",
    "    df[\"CENTRE_LAT\"] = (df[\"LATDTMIN\"] + df[\"LATDTMAX\"]) / 2\n",
    "\n",
    "    diff_lon = np.diff(df[\"CENTRE_LON\"])\n",
    "    diff_lat = np.diff(df[\"CENTRE_LAT\"])\n",
    "\n",
    "    if np.any(np.any(np.where(np.abs(diff_lon) > 10)) or np.any(np.where(np.abs(diff_lon) > 1))):\n",
    "        suspicious.append(harpnum)\n",
    "\n",
    "    mean_dlons.append(np.nanmean(diff_lon))\n",
    "    mean_dlats.append(np.nanmean(diff_lon))\n",
    "    std_dlons.append(np.nanstd(diff_lon))\n",
    "    std_dlats.append(np.nanstd(diff_lat))"
   ]
  },
  {
   "cell_type": "code",
   "execution_count": null,
   "metadata": {},
   "outputs": [],
   "source": [
    "import seaborn as sns"
   ]
  },
  {
   "cell_type": "code",
   "execution_count": null,
   "metadata": {},
   "outputs": [],
   "source": [
    "fig, ax = plt.subplots(2, 1, figsize=(10,20), dpi=300)\n",
    "\n",
    "sns.boxplot(std_dlons, ax = ax[0])\n",
    "sns.boxplot(std_dlats, ax = ax[1])"
   ]
  },
  {
   "cell_type": "code",
   "execution_count": null,
   "metadata": {},
   "outputs": [],
   "source": [
    "lon95p = np.nanpercentile(std_dlons, 99)\n",
    "lon5p = np.nanpercentile(std_dlons, 0)\n",
    "\n",
    "lat95p = np.nanpercentile(std_dlats, 99)\n",
    "lat5p = np.nanpercentile(std_dlats, 0)"
   ]
  },
  {
   "cell_type": "code",
   "execution_count": null,
   "metadata": {},
   "outputs": [],
   "source": [
    "lon_outliers = np.where(std_dlons > lon95p) or np.where(std_dlons < lon5p)\n",
    "lon_outliers"
   ]
  },
  {
   "cell_type": "code",
   "execution_count": null,
   "metadata": {},
   "outputs": [],
   "source": [
    "lat_outliers = np.where(std_dlats > lat95p) or np.where(std_dlats < lat5p)\n",
    "lat_outliers"
   ]
  },
  {
   "cell_type": "code",
   "execution_count": null,
   "metadata": {},
   "outputs": [],
   "source": [
    "harpnums = np.array(list(SWAN.keys()))\n",
    "harpnums"
   ]
  },
  {
   "cell_type": "code",
   "execution_count": null,
   "metadata": {},
   "outputs": [],
   "source": [
    "lon_outlier_harpnums = harpnums[lon_outliers[0]]\n",
    "lon_outlier_harpnums"
   ]
  },
  {
   "cell_type": "code",
   "execution_count": null,
   "metadata": {},
   "outputs": [],
   "source": [
    "lat_outlier_harpnums = harpnums[lat_outliers[0]]"
   ]
  },
  {
   "cell_type": "code",
   "execution_count": null,
   "metadata": {},
   "outputs": [],
   "source": [
    "import shutil\n",
    "\n",
    "for lon_outlier_harpnum in lon_outlier_harpnums:\n",
    "    filepath = f\"/home/julio/cmesrc/notebooks/figures/bboxes/{lon_outlier_harpnum}.png\"\n",
    "\n",
    "    new_filepath = f\"/home/julio/cmesrc/notebooks/figures/bboxes/lon_outliers/{lon_outlier_harpnum}.png\"\n",
    "\n",
    "    shutil.copy(filepath, new_filepath)\n",
    "\n",
    "for lat_outlier_harpnum in lat_outlier_harpnums:\n",
    "    filepath = f\"/home/julio/cmesrc/notebooks/figures/bboxes/{lat_outlier_harpnum}.png\"\n",
    "\n",
    "    new_filepath = f\"/home/julio/cmesrc/notebooks/figures/bboxes/lat_outliers/{lat_outlier_harpnum}.png\"\n",
    "\n",
    "    shutil.copy(filepath, new_filepath)\n",
    "\n",
    "for harpnum in suspicious:\n",
    "    filepath = f\"/home/julio/cmesrc/notebooks/figures/bboxes/{harpnum}.png\"\n",
    "\n",
    "    new_filepath = f\"/home/julio/cmesrc/notebooks/figures/bboxes/suspicious/{harpnum}.png\"\n",
    "\n",
    "    shutil.copy(filepath, new_filepath)\n",
    "\n",
    "\n"
   ]
  },
  {
   "cell_type": "code",
   "execution_count": null,
   "metadata": {},
   "outputs": [],
   "source": [
    "data = read_SWAN_filepath(SWAN[2114])"
   ]
  },
  {
   "cell_type": "code",
   "execution_count": null,
   "metadata": {},
   "outputs": [],
   "source": [
    "londtmin, londtmax, latdtmin, latdtmax = data[['LONDTMIN', 'LONDTMAX', 'LATDTMIN', 'LATDTMAX']].values.T"
   ]
  },
  {
   "cell_type": "code",
   "execution_count": 8,
   "metadata": {},
   "outputs": [
    {
     "data": {
      "text/plain": [
       "Text(0.5, 0, 'Timestamp index')"
      ]
     },
     "execution_count": 8,
     "metadata": {},
     "output_type": "execute_result"
    },
    {
     "data": {
      "text/plain": [
       "<Figure size 350x262.5 with 0 Axes>"
      ]
     },
     "metadata": {},
     "output_type": "display_data"
    },
    {
     "data": {
      "image/png": "[encoded data removed]",
      "text/plain": [
       "<Figure size 827x413.5 with 2 Axes>"
      ]
     },
     "metadata": {},
     "output_type": "display_data"
    }
   ],
   "source": [
    "plt.style.use(\"science\")\n",
    "\n",
    "harpnum = 2114\n",
    "data = read_SWAN_filepath(SWAN[harpnum])\n",
    "\n",
    "plt.close()\n",
    "plt.clf()\n",
    "\n",
    "# A4 Width\n",
    "\n",
    "width = 8.27\n",
    "\n",
    "fig, ax = plt.subplots(1, 2, figsize=(width,0.5 * width))\n",
    "\n",
    "X = np.arange(len(data), dtype=np.float64)\n",
    "lon_min = data[\"LONDTMIN\"].values\n",
    "lon_max = data[\"LONDTMAX\"].values\n",
    "lat_min = data[\"LATDTMIN\"].values\n",
    "lat_max = data[\"LATDTMAX\"].values\n",
    "timestamps = data[\"Timestamp\"].values\n",
    "\n",
    "rotated_mask = data[\"IRBB\"].values\n",
    "\n",
    "original_x = np.copy(X)\n",
    "original_lon_min = np.copy(lon_min)\n",
    "original_lon_max = np.copy(lon_max)\n",
    "original_lat_min = np.copy(lat_min)\n",
    "original_lat_max = np.copy(lat_max)\n",
    "\n",
    "original_x[rotated_mask] = np.nan\n",
    "original_lon_min[rotated_mask] = np.nan\n",
    "original_lon_max[rotated_mask] = np.nan\n",
    "original_lat_min[rotated_mask] = np.nan\n",
    "original_lat_max[rotated_mask] = np.nan\n",
    "\n",
    "rotated_x = np.copy(X)\n",
    "rotated_lon_min = np.copy(lon_min)\n",
    "rotated_lon_max = np.copy(lon_max)\n",
    "rotated_lat_min = np.copy(lat_min)\n",
    "rotated_lat_max = np.copy(lat_max)\n",
    "\n",
    "rotated_x[~rotated_mask] = np.nan\n",
    "rotated_lon_min[~rotated_mask] = np.nan\n",
    "rotated_lon_max[~rotated_mask] = np.nan\n",
    "rotated_lat_min[~rotated_mask] = np.nan\n",
    "rotated_lat_max[~rotated_mask] = np.nan\n",
    "\n",
    "ax[0].plot(original_x, original_lon_min, color=\"black\", linestyle=\"solid\")\n",
    "ax[0].plot(original_x, original_lon_max, color=\"orange\", linestyle=\"solid\")\n",
    "\n",
    "ax[0].plot(rotated_x, rotated_lon_min, color=\"black\", linestyle=\"dotted\")\n",
    "ax[0].plot(rotated_x, rotated_lon_max, color=\"orange\", linestyle=\"dotted\")\n",
    "\n",
    "ax[0].set_title(f\"HARP {harpnum} longitude\")\n",
    "\n",
    "ax[1].plot(original_x, original_lat_min, color=\"black\", linestyle=\"solid\")\n",
    "ax[1].plot(original_x, original_lat_max, color=\"orange\", linestyle=\"solid\")\n",
    "\n",
    "ax[1].plot(rotated_x, rotated_lat_min, color=\"black\", linestyle=\"dotted\")\n",
    "ax[1].plot(rotated_x, rotated_lat_max, color=\"orange\", linestyle=\"dotted\")\n",
    "\n",
    "ax[1].set_title(f\"HARP {harpnum} latitude\")\n",
    "\n",
    "# Custom legend\n",
    "\n",
    "# Need yellow solid line for max and black solid for min\n",
    "# Need dotted versions for rotated\n",
    "\n",
    "# Import mlines\n",
    "\n",
    "import matplotlib.lines as mlines\n",
    "\n",
    "# Create custom artists, make the two dotted lines be in the same legend label\n",
    "black_line = mlines.Line2D([], [], color='black', linestyle=\"solid\", label='Min. value')\n",
    "orange_line = mlines.Line2D([], [], color='orange', linestyle=\"solid\", label='Rotated min.')\n",
    "dotted_black_line = mlines.Line2D([], [], color='black', linestyle=\"dotted\", label='Max. value')\n",
    "dotted_orange_line = mlines.Line2D([], [], color='orange', linestyle=\"dotted\", label='Rotated max.')\n",
    "\n",
    "# Create legend from custom artist/label lists\n",
    "ax[1].legend(handles=[black_line, orange_line, dotted_black_line, dotted_orange_line])\n",
    "\n",
    "ax[0].set_ylabel(\"Degrees\")\n",
    "ax[0].set_xlabel(\"Timestamp index\")\n",
    "ax[1].set_xlabel(\"Timestamp index\")"
   ]
  },
  {
   "cell_type": "code",
   "execution_count": null,
   "metadata": {},
   "outputs": [],
   "source": [
    "timestamps"
   ]
  },
  {
   "cell_type": "code",
   "execution_count": null,
   "metadata": {},
   "outputs": [],
   "source": []
  }
 ],
 "metadata": {
  "kernelspec": {
   "display_name": "env",
   "language": "python",
   "name": "python3"
  },
  "language_info": {
   "codemirror_mode": {
    "name": "ipython",
    "version": 3
   },
   "file_extension": ".py",
   "mimetype": "text/x-python",
   "name": "python",
   "nbconvert_exporter": "python",
   "pygments_lexer": "ipython3",
   "version": "3.9.12"
  },
  "orig_nbformat": 4
 },
 "nbformat": 4,
 "nbformat_minor": 2
}
