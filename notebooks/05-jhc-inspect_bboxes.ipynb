{
 "cells": [
  {
   "cell_type": "code",
   "execution_count": null,
   "metadata": {},
   "outputs": [],
   "source": [
    "import os\n",
    "\n",
    "# Add root directory to python path\n",
    "import sys\n",
    "from tqdm import tqdm\n",
    "sys.path.append(os.path.abspath(os.path.join(os.getcwd(), os.pardir)))\n",
    "\n",
    "from src.cmesrc.utils import filepaths_updated_swan_data\n",
    "\n",
    "import matplotlib.pyplot as plt\n",
    "import numpy as np"
   ]
  },
  {
   "cell_type": "code",
   "execution_count": null,
   "metadata": {},
   "outputs": [],
   "source": [
    "SWAN = filepaths_updated_swan_data()"
   ]
  },
  {
   "cell_type": "code",
   "execution_count": null,
   "metadata": {},
   "outputs": [],
   "source": [
    "import pandas as pd \n",
    "\n",
    "for harpnum, filepath in tqdm(SWAN.items()):\n",
    "\n",
    "    data = pd.read_csv(filepath, sep=\"\\t\")\n",
    "\n",
    "    plt.close()\n",
    "    plt.clf()\n",
    "\n",
    "    fig, ax = plt.subplots(2, figsize=(10,30), num=1, clear=True, sharex=True)\n",
    "\n",
    "    X = np.arange(len(data), dtype=np.float64)\n",
    "    lon_min = data[\"LONDTMIN\"].values\n",
    "    lon_max = data[\"LONDTMAX\"].values\n",
    "    lat_min = data[\"LATDTMIN\"].values\n",
    "    lat_max = data[\"LATDTMAX\"].values\n",
    "\n",
    "    rotated_mask = data[\"IRBB\"].values\n",
    "\n",
    "    original_x = np.copy(X)\n",
    "    original_lon_min = np.copy(lon_min)\n",
    "    original_lon_max = np.copy(lon_max)\n",
    "    original_lat_min = np.copy(lat_min)\n",
    "    original_lat_max = np.copy(lat_max)\n",
    "\n",
    "    original_x[rotated_mask] = np.nan\n",
    "    original_lon_min[rotated_mask] = np.nan\n",
    "    original_lon_max[rotated_mask] = np.nan\n",
    "    original_lat_min[rotated_mask] = np.nan\n",
    "    original_lat_max[rotated_mask] = np.nan\n",
    "\n",
    "    rotated_x = np.copy(X)\n",
    "    rotated_lon_min = np.copy(lon_min)\n",
    "    rotated_lon_max = np.copy(lon_max)\n",
    "    rotated_lat_min = np.copy(lat_min)\n",
    "    rotated_lat_max = np.copy(lat_max)\n",
    "\n",
    "    rotated_x[~rotated_mask] = np.nan\n",
    "    rotated_lon_min[~rotated_mask] = np.nan\n",
    "    rotated_lon_max[~rotated_mask] = np.nan\n",
    "    rotated_lat_min[~rotated_mask] = np.nan\n",
    "    rotated_lat_max[~rotated_mask] = np.nan\n",
    "\n",
    "    ax[0].plot(original_x, original_lon_min, color=\"black\", linestyle=\"solid\")\n",
    "    ax[0].plot(original_x, original_lon_max, color=\"orange\", linestyle=\"solid\")\n",
    "\n",
    "    ax[0].plot(rotated_x, rotated_lon_min, color=\"black\", linestyle=\"dotted\")\n",
    "    ax[0].plot(rotated_x, rotated_lon_max, color=\"orange\", linestyle=\"dotted\")\n",
    "\n",
    "    ax[0].set_title(f\"HARP {harpnum} LON\")\n",
    "\n",
    "    ax[1].plot(original_x, original_lat_min, color=\"black\", linestyle=\"solid\")\n",
    "    ax[1].plot(original_x, original_lat_max, color=\"orange\", linestyle=\"solid\")\n",
    "\n",
    "    ax[1].plot(rotated_x, rotated_lat_min, color=\"black\", linestyle=\"dotted\")\n",
    "    ax[1].plot(rotated_x, rotated_lat_max, color=\"orange\", linestyle=\"dotted\")\n",
    "\n",
    "    ax[1].set_title(f\"HARP {harpnum} LAT\")\n",
    "\n",
    "    plt.savefig(f\"figures/bboxes/{harpnum}.png\", dpi=150)\n",
    "\n",
    "    plt.clf()\n",
    "    plt.cla()\n",
    "    plt.close()\n",
    "\n",
    "    fig.clear()\n",
    "    plt.close(fig)\n"
   ]
  },
  {
   "cell_type": "code",
   "execution_count": null,
   "metadata": {},
   "outputs": [],
   "source": [
    "import drms\n",
    "\n",
    "client = drms.Client(email=\"ucapern@ucl.ac.uk\", verbose=True)\n",
    "harpnum = 12\n",
    "hmi_request = f\"hmi.sharp_720s[{harpnum}]\"\n",
    "\n",
    "keywords = client.query(hmi_request, key=\"LAT_MIN, LON_MIN, LAT_MAX, LON_MAX, LONDTMIN, LONDTMAX, LATDTMIN, LATDTMAX, T_REC\")"
   ]
  },
  {
   "cell_type": "code",
   "execution_count": null,
   "metadata": {},
   "outputs": [],
   "source": [
    "from astropy.time import Time\n",
    "\n",
    "Time(keywords[\"T_REC\"].apply(lambda x: x[:-4].replace(\".\",\"-\").replace(\"_\",\" \")).to_list())[0]"
   ]
  },
  {
   "cell_type": "code",
   "execution_count": null,
   "metadata": {},
   "outputs": [],
   "source": [
    "ORIGINAL_SWAN[2].iloc[0].name"
   ]
  },
  {
   "cell_type": "code",
   "execution_count": null,
   "metadata": {},
   "outputs": [],
   "source": [
    "keywords\n",
    "\n",
    "LON_MIN = keywords[\"LON_MIN\"].values\n",
    "LON_MAX = keywords[\"LON_MAX\"].values\n",
    "LAT_MIN = keywords[\"LAT_MIN\"].values\n",
    "LAT_MAX = keywords[\"LAT_MAX\"].values\n",
    "\n",
    "LONDTMIN = keywords[\"LONDTMIN\"].values\n",
    "LONDTMAX = keywords[\"LONDTMAX\"].values\n",
    "LATDTMIN = keywords[\"LATDTMIN\"].values\n",
    "LATDTMAX = keywords[\"LATDTMAX\"].values\n"
   ]
  },
  {
   "cell_type": "code",
   "execution_count": null,
   "metadata": {},
   "outputs": [],
   "source": [
    "from matplotlib import animation\n",
    "import matplotlib.patches as patches\n",
    "\n",
    "fig, ax = plt.subplots()\n",
    "\n",
    "dtbox = patches.Rectangle(\n",
    "    (LONDTMIN[0], LATDTMIN[0]),\n",
    "    LONDTMAX[0] - LONDTMIN[0],\n",
    "    LATDTMAX[0] - LATDTMIN[0],\n",
    "    fc=\"forestgreen\",\n",
    "    zorder=10\n",
    ")\n",
    "\n",
    "box = patches.Rectangle(\n",
    "    (LON_MIN[0], LAT_MIN[0]),\n",
    "    LON_MAX[0] - LON_MIN[0],\n",
    "    LAT_MAX[0] - LAT_MIN[0],\n",
    "    fc=\"red\",\n",
    "    zorder=20\n",
    ")\n",
    "\n",
    "def init():\n",
    "    ax.add_patch(dtbox)\n",
    "    ax.add_patch(box)\n",
    "    return dtbox, box\n",
    "\n",
    "def animate(i):\n",
    "    print([LONDTMIN[i], LATDTMIN[i]])\n",
    "    dtbox.set_xy([LONDTMIN[i], LATDTMIN[i]])\n",
    "    dtbox.set_width(LONDTMAX[i] - LONDTMIN[i])\n",
    "    dtbox.set_height(LATDTMAX[i] - LATDTMIN[i])\n",
    "\n",
    "    box.set_xy([LON_MIN[i], LAT_MIN[i]])\n",
    "    box.set_width(LON_MAX[i] - LON_MIN[i])\n",
    "    box.set_height(LAT_MAX[i] - LAT_MIN[i])\n",
    "    return dtbox, box\n",
    "\n",
    "ax.set_xlim(-90,90)\n",
    "ax.set_ylim(-90,90)\n",
    "\n",
    "anim = animation.FuncAnimation(fig, animate, init_func=init, frames=len(LON_MIN), interval=100, blit=True)\n",
    "\n",
    "writer = animation.FFMpegWriter(fps=60)\n",
    "\n",
    "anim.save(\"figures/bboxes/animation.mp4\", writer=writer, dpi=200)"
   ]
  },
  {
   "cell_type": "code",
   "execution_count": null,
   "metadata": {},
   "outputs": [],
   "source": [
    "from src.cmesrc.utils import cache_swan_data\n",
    "from src.cmesrc.config import UPDATED_SWAN\n",
    "import pandas as pd\n",
    "from astropy.time import Time\n",
    "from os.path import join\n",
    "from tqdm import tqdm\n",
    "import drms\n",
    "\n",
    "client = drms.Client(email=\"ucapern@ucl.ac.uk\", verbose=True)\n",
    "\n",
    "SWAN = cache_swan_data()"
   ]
  },
  {
   "cell_type": "code",
   "execution_count": null,
   "metadata": {},
   "outputs": [],
   "source": [
    "harpnum = 7302\n",
    "\n",
    "data = SWAN[7302].copy()\n",
    "\n",
    "df = pd.read_csv(f\"/home/julio/cmesrc/data/raw/mvts/SWAN/partition5/{harpnum}.csv\", sep=\"\\t\")\n",
    "\n",
    "hmi_request = f\"hmi.sharp_720s[{harpnum}]\"\n",
    "\n",
    "keywords = client.query(hmi_request, key=\"LONDTMIN, LONDTMAX, LATDTMIN, LATDTMAX, T_REC\")"
   ]
  },
  {
   "cell_type": "code",
   "execution_count": null,
   "metadata": {},
   "outputs": [],
   "source": [
    "data"
   ]
  },
  {
   "cell_type": "code",
   "execution_count": null,
   "metadata": {},
   "outputs": [],
   "source": [
    "keywords[\"Timestamp\"] = Time(keywords[\"T_REC\"].apply(lambda x: x[:-4].replace(\".\",\"-\").replace(\"_\",\" \")).to_list())\n",
    "keywords.drop(columns=[\"T_REC\"], inplace=True)"
   ]
  },
  {
   "cell_type": "code",
   "execution_count": null,
   "metadata": {},
   "outputs": [],
   "source": [
    "# data.drop(columns=[\"Timestamp\"], inplace=True)"
   ]
  },
  {
   "cell_type": "code",
   "execution_count": null,
   "metadata": {},
   "outputs": [],
   "source": [
    "data = pd.merge(data, keywords, on=\"Timestamp\", how=\"outer\")"
   ]
  },
  {
   "cell_type": "code",
   "execution_count": null,
   "metadata": {},
   "outputs": [],
   "source": [
    "data.to_csv(\"test.csv\", index=False)"
   ]
  },
  {
   "cell_type": "code",
   "execution_count": null,
   "metadata": {},
   "outputs": [],
   "source": [
    "df = pd.read_csv(\"test.csv\")"
   ]
  },
  {
   "cell_type": "code",
   "execution_count": null,
   "metadata": {},
   "outputs": [],
   "source": [
    "df"
   ]
  },
  {
   "cell_type": "code",
   "execution_count": null,
   "metadata": {},
   "outputs": [],
   "source": []
  }
 ],
 "metadata": {
  "kernelspec": {
   "display_name": "env",
   "language": "python",
   "name": "python3"
  },
  "language_info": {
   "codemirror_mode": {
    "name": "ipython",
    "version": 3
   },
   "file_extension": ".py",
   "mimetype": "text/x-python",
   "name": "python",
   "nbconvert_exporter": "python",
   "pygments_lexer": "ipython3",
   "version": "3.9.12"
  },
  "orig_nbformat": 4
 },
 "nbformat": 4,
 "nbformat_minor": 2
}
