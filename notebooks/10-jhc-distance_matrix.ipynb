{
 "cells": [
  {
   "cell_type": "code",
   "execution_count": 1,
   "metadata": {},
   "outputs": [],
   "source": [
    "import sys\n",
    "sys.path.append(\"../\")\n",
    "\n",
    "import sqlite3\n",
    "import numpy as np\n",
    "\n",
    "from src.cmesrc.config import CMESRC_DB\n",
    "import matplotlib.pyplot as plt\n",
    "from tqdm import tqdm"
   ]
  },
  {
   "cell_type": "code",
   "execution_count": 2,
   "metadata": {},
   "outputs": [],
   "source": [
    "con = sqlite3.connect(CMESRC_DB)\n",
    "con.execute(\"PRAGMA foreign_keys = ON\")\n",
    "cur = con.cursor()"
   ]
  },
  {
   "cell_type": "code",
   "execution_count": 4,
   "metadata": {},
   "outputs": [],
   "source": [
    "cur.execute(\"SELECT timestamp FROM images\")\n",
    "\n",
    "timestamps = cur.fetchall()\n",
    "#timestamps = timestamps[::30]"
   ]
  },
  {
   "cell_type": "code",
   "execution_count": 5,
   "metadata": {},
   "outputs": [],
   "source": [
    "def distance_between_bboxes(bboxA, bboxB):\n",
    "    # Original bbox = [harpnum, xmin, xmax, ymin, ymax, xcen, ycen]\n",
    "    # Convert to bbox = [xmin, ymin, xmax, ymax]\n",
    "    bboxA = [bboxA[1], bboxA[3], bboxA[2], bboxA[4]]\n",
    "    bboxB = [bboxB[1], bboxB[3], bboxB[2], bboxB[4]]\n",
    "\n",
    "    inner_bbox = [\n",
    "        max(bboxA[0], bboxB[0]),\n",
    "        max(bboxA[1], bboxB[1]),\n",
    "        min(bboxA[2], bboxB[2]),\n",
    "        min(bboxA[3], bboxB[3])\n",
    "    ]\n",
    "\n",
    "    width = inner_bbox[2] - inner_bbox[0]\n",
    "    height = inner_bbox[3] - inner_bbox[1]\n",
    "\n",
    "    dist_width = min(0, width)\n",
    "    dist_height = min(0, height)\n",
    "\n",
    "    dist = dist_width**2 + dist_height**2\n",
    "\n",
    "    return dist"
   ]
  },
  {
   "cell_type": "code",
   "execution_count": 6,
   "metadata": {},
   "outputs": [
    {
     "data": {
      "text/plain": [
       "<sqlite3.Cursor at 0x7fa3971be180>"
      ]
     },
     "execution_count": 6,
     "metadata": {},
     "output_type": "execute_result"
    }
   ],
   "source": [
    "cur.execute(\"DROP TABLE IF EXISTS distance_matrix\")\n",
    "cur.executescript(\"\"\"\n",
    "CREATE TABLE IF NOT EXISTS distance_matrix (\n",
    "    harpnum1 INTEGER NOT NULL,\n",
    "    harpnum2 INTEGER NOT NULL CHECK (harpnum1 < harpnum2),\n",
    "    timestamp TEXT NOT NULL,\n",
    "    dist REAL NOT NULL,\n",
    "    PRIMARY KEY (harpnum1, harpnum2, timestamp)\n",
    "    );\n",
    "\"\"\")"
   ]
  },
  {
   "cell_type": "code",
   "execution_count": 7,
   "metadata": {},
   "outputs": [
    {
     "ename": "OperationalError",
     "evalue": "index timestamp_index already exists",
     "output_type": "error",
     "traceback": [
      "\u001b[0;31m---------------------------------------------------------------------------\u001b[0m",
      "\u001b[0;31mOperationalError\u001b[0m                          Traceback (most recent call last)",
      "Cell \u001b[0;32mIn[7], line 1\u001b[0m\n\u001b[0;32m----> 1\u001b[0m cur\u001b[39m.\u001b[39;49mexecute(\u001b[39m\"\u001b[39;49m\u001b[39mCREATE INDEX timestamp_index ON harps_pixel_bbox (timestamp);\u001b[39;49m\u001b[39m\"\u001b[39;49m)\n",
      "\u001b[0;31mOperationalError\u001b[0m: index timestamp_index already exists"
     ]
    }
   ],
   "source": [
    "cur.execute(\"CREATE INDEX timestamp_index ON harps_pixel_bbox (timestamp);\")"
   ]
  },
  {
   "cell_type": "code",
   "execution_count": 8,
   "metadata": {},
   "outputs": [],
   "source": [
    "con.commit()"
   ]
  },
  {
   "cell_type": "code",
   "execution_count": 9,
   "metadata": {},
   "outputs": [
    {
     "name": "stderr",
     "output_type": "stream",
     "text": [
      "100%|██████████| 429129/429129 [00:49<00:00, 8734.53it/s]  \n"
     ]
    }
   ],
   "source": [
    "i = 0\n",
    "for timestamp in tqdm(timestamps):\n",
    "    timestamp = timestamp[0]\n",
    "    cur.execute(\"SELECT harpnum, x_min, x_max, y_min, y_max, x_cen, y_cen FROM harps_pixel_bbox WHERE timestamp = ?\", (timestamp,))\n",
    "    bboxes = cur.fetchall()\n",
    "\n",
    "    from copy import deepcopy\n",
    "    CUTOUT_SIZE = float(224)\n",
    "    bboxes_copy = deepcopy(bboxes)\n",
    "    i = 0\n",
    "    while len(bboxes_copy) != 0:\n",
    "        bbox1 = bboxes_copy.pop()\n",
    "\n",
    "        for bbox2 in bboxes_copy:\n",
    "            harpnum1 = min(bbox1[0], bbox2[0]) # Smallest harpnum, used for cutout\n",
    "            harpnum2 = max(bbox1[0], bbox2[0]) # Larger harpnum\n",
    "\n",
    "            bboxA = [bbox1 if bbox1[0] == harpnum1 else bbox2][0] # Smallest harpnum\n",
    "            bboxB = [bbox2 if bbox2[0] == harpnum2 else bbox1][0] # Larger harpnum\n",
    "\n",
    "            dist = distance_between_bboxes(bboxA, bboxB)\n",
    "\n",
    "            cur.execute(\"INSERT OR REPLACE INTO distance_matrix (harpnum1, harpnum2, timestamp, dist) VALUES (?, ?, ?, ?)\", (harpnum1, harpnum2, timestamp, dist))\n",
    "\n",
    "\n",
    "\n",
    "    i += 1\n",
    "\n",
    "    if i % 1000 == 0:\n",
    "        con.commit()\n",
    "        "
   ]
  },
  {
   "cell_type": "code",
   "execution_count": 10,
   "metadata": {},
   "outputs": [],
   "source": [
    "con.commit()"
   ]
  },
  {
   "cell_type": "code",
   "execution_count": 11,
   "metadata": {},
   "outputs": [],
   "source": [
    "con.close()"
   ]
  },
  {
   "attachments": {},
   "cell_type": "markdown",
   "metadata": {},
   "source": [
    "### TESTS"
   ]
  },
  {
   "cell_type": "code",
   "execution_count": 9,
   "metadata": {},
   "outputs": [
    {
     "data": {
      "text/plain": [
       "'2014-07-30 12:48:00'"
      ]
     },
     "execution_count": 9,
     "metadata": {},
     "output_type": "execute_result"
    }
   ],
   "source": [
    "sample_timestamp = \"2014-07-30 12:48:00\"\n",
    "sample_timestamp"
   ]
  },
  {
   "cell_type": "code",
   "execution_count": 55,
   "metadata": {},
   "outputs": [],
   "source": [
    "cur.execute(\"SELECT harpnum, x_min, x_max, y_min, y_max, x_cen, y_cen FROM harps_pixel_bbox WHERE timestamp = ?\", (sample_timestamp,))\n",
    "bboxes = cur.fetchall()"
   ]
  },
  {
   "cell_type": "code",
   "execution_count": 56,
   "metadata": {},
   "outputs": [
    {
     "data": {
      "text/plain": [
       "[(4397, 196, 258, 266, 305, 227, 285),\n",
       " (4398, 95, 147, 160, 186, 121, 173),\n",
       " (4399, 107, 208, 250, 303, 157, 276),\n",
       " (4413, 113, 121, 278, 284, 117, 281),\n",
       " (4414, 147, 161, 156, 165, 154, 160),\n",
       " (4379, 312, 383, 237, 286, 347, 261),\n",
       " (4383, 331, 398, 179, 232, 364, 205),\n",
       " (4390, 149, 255, 147, 206, 202, 176),\n",
       " (4392, 270, 291, 171, 184, 280, 177),\n",
       " (4396, 82, 157, 161, 236, 119, 198)]"
      ]
     },
     "execution_count": 56,
     "metadata": {},
     "output_type": "execute_result"
    }
   ],
   "source": [
    "bboxes"
   ]
  },
  {
   "cell_type": "code",
   "execution_count": 49,
   "metadata": {},
   "outputs": [],
   "source": [
    "dmatcon.close()"
   ]
  },
  {
   "cell_type": "code",
   "execution_count": 87,
   "metadata": {},
   "outputs": [],
   "source": [
    "dmatcon = sqlite3.connect(\"./notebook_10_files/dmat.db\")\n",
    "dmatcon.execute(\"PRAGMA foreign_keys = ON\")\n",
    "dmatcur = dmatcon.cursor()"
   ]
  },
  {
   "cell_type": "code",
   "execution_count": 169,
   "metadata": {},
   "outputs": [
    {
     "data": {
      "text/plain": [
       "<sqlite3.Cursor at 0x7f89952f5ea0>"
      ]
     },
     "execution_count": 169,
     "metadata": {},
     "output_type": "execute_result"
    }
   ],
   "source": [
    "dmatcur.execute(\"DROP TABLE IF EXISTS distance_matrix\")"
   ]
  },
  {
   "cell_type": "code",
   "execution_count": 170,
   "metadata": {},
   "outputs": [
    {
     "data": {
      "text/plain": [
       "<sqlite3.Cursor at 0x7f89952f5ea0>"
      ]
     },
     "execution_count": 170,
     "metadata": {},
     "output_type": "execute_result"
    }
   ],
   "source": [
    "dmatcur.executescript(\"\"\"\n",
    "CREATE TABLE IF NOT EXISTS distance_matrix (\n",
    "    harpnum1 INTEGER NOT NULL,\n",
    "    harpnum2 INTEGER NOT NULL,\n",
    "    timestamp TEXT NOT NULL,\n",
    "    dist REAL NOT NULL,\n",
    "    PRIMARY KEY (harpnum1, harpnum2, timestamp)\n",
    "    );\n",
    "\"\"\")"
   ]
  },
  {
   "cell_type": "code",
   "execution_count": 171,
   "metadata": {},
   "outputs": [
    {
     "name": "stdout",
     "output_type": "stream",
     "text": [
      "[(0, 'harpnum1', 'INTEGER', 1, None, 1), (1, 'harpnum2', 'INTEGER', 1, None, 2), (2, 'timestamp', 'TEXT', 1, None, 3), (3, 'dist', 'REAL', 1, None, 0)]\n"
     ]
    }
   ],
   "source": [
    "dmatcur.execute(\"PRAGMA table_info(distance_matrix)\")\n",
    "print(dmatcur.fetchall())"
   ]
  },
  {
   "cell_type": "code",
   "execution_count": 172,
   "metadata": {},
   "outputs": [],
   "source": [
    "def iou(bboxA, bboxB):\n",
    "    # Original bbox = [harpnum, xmin, xmax, ymin, ymax, xcen, ycen]\n",
    "    # Convert to bbox = [xmin, ymin, xmax, ymax]\n",
    "\n",
    "    harpnum1 = bboxA[0]\n",
    "    harpnum2 = bboxB[0]\n",
    "\n",
    "    bboxA = [bboxA[1], bboxA[3], bboxA[2], bboxA[4]]\n",
    "    bboxB = [bboxB[1], bboxB[3], bboxB[2], bboxB[4]]\n",
    "\n",
    "    # Intersection coordinates\n",
    "    xA = max(bboxA[0], bboxB[0])\n",
    "    yA = max(bboxA[1], bboxB[1])\n",
    "    xB = min(bboxA[2], bboxB[2])\n",
    "    yB = min(bboxA[3], bboxB[3])\n",
    "\n",
    "    inter_area = max(0, xB - xA) * max(0, yB - yA)\n",
    "\n",
    "    bboxA_area = (bboxA[2] - bboxA[0]) * (bboxA[3] - bboxA[1])\n",
    "    bboxB_area = (bboxB[2] - bboxB[0]) * (bboxB[3] - bboxB[1])\n",
    "\n",
    "    union_area = bboxA_area + bboxB_area - inter_area\n",
    "\n",
    "    iou = float(inter_area) / float(union_area)\n",
    "\n",
    "    if harpnum1 == 4399 and harpnum2 == 4413:\n",
    "        print(bboxA, bboxB)\n",
    "        print(xA, yA, xB, yB)\n",
    "        print(inter_area, union_area, iou)\n",
    "\n",
    "    return iou\n",
    "\n",
    "def cutout_overlap_ratio(bboxA, cutout):\n",
    "    # Original bbox = [harpnum, xmin, xmax, ymin, ymax, xcen, ycen]\n",
    "    # Convert to bbox = [xmin, ymin, xmax, ymax]\n",
    "\n",
    "    harpnum1 = bboxA[0]\n",
    "    harpnum2 = cutout[0]\n",
    "\n",
    "    bboxA = [bboxA[1], bboxA[3], bboxA[2], bboxA[4]]\n",
    "    cutout = [cutout[1], cutout[3], cutout[2], cutout[4]]\n",
    "\n",
    "    # Intersection coordinates\n",
    "    xA = max(bboxA[0], cutout[0])\n",
    "    yA = max(bboxA[1], cutout[1])\n",
    "    xB = min(bboxA[2], cutout[2])\n",
    "    yB = min(bboxA[3], cutout[3])\n",
    "\n",
    "    inter_area = max(0, xB - xA) * max(0, yB - yA)\n",
    "\n",
    "    bboxA_area = (bboxA[2] - bboxA[0]) * (bboxA[3] - bboxA[1])\n",
    "\n",
    "    overlap_ratio = float(inter_area) / float(bboxA_area)\n",
    "\n",
    "    if harpnum1 == 4413 and harpnum2 == 4399:\n",
    "        print(bboxA, cutout)\n",
    "        print(xA, yA, xB, yB)\n",
    "        print(inter_area, bboxA_area)\n",
    "        print(overlap_ratio)\n",
    "\n",
    "    return overlap_ratio\n",
    "\n",
    "def distance_between_bboxes(bboxA, bboxB):\n",
    "    # Original bbox = [harpnum, xmin, xmax, ymin, ymax, xcen, ycen]\n",
    "    # Convert to bbox = [xmin, ymin, xmax, ymax]\n",
    "    bboxA = [bboxA[1], bboxA[3], bboxA[2], bboxA[4]]\n",
    "    bboxB = [bboxB[1], bboxB[3], bboxB[2], bboxB[4]]\n",
    "\n",
    "    inner_bbox = [\n",
    "        max(bboxA[0], bboxB[0]),\n",
    "        max(bboxA[1], bboxB[1]),\n",
    "        min(bboxA[2], bboxB[2]),\n",
    "        min(bboxA[3], bboxB[3])\n",
    "    ]\n",
    "\n",
    "    width = inner_bbox[2] - inner_bbox[0]\n",
    "    height = inner_bbox[3] - inner_bbox[1]\n",
    "\n",
    "    dist_width = min(0, width)\n",
    "    dist_height = min(0, height)\n",
    "\n",
    "    dist = dist_width**2 + dist_height**2\n",
    "\n",
    "    return dist"
   ]
  },
  {
   "cell_type": "code",
   "execution_count": 173,
   "metadata": {},
   "outputs": [
    {
     "name": "stdout",
     "output_type": "stream",
     "text": [
      "CPU times: user 3 µs, sys: 2 µs, total: 5 µs\n",
      "Wall time: 7.87 µs\n"
     ]
    },
    {
     "data": {
      "text/plain": [
       "1936"
      ]
     },
     "execution_count": 173,
     "metadata": {},
     "output_type": "execute_result"
    }
   ],
   "source": [
    "%%time\n",
    "distance_between_bboxes(bboxes[7], bboxes[2])"
   ]
  },
  {
   "cell_type": "code",
   "execution_count": 180,
   "metadata": {},
   "outputs": [
    {
     "name": "stdout",
     "output_type": "stream",
     "text": [
      "45\n"
     ]
    }
   ],
   "source": [
    "from copy import deepcopy\n",
    "CUTOUT_SIZE = float(224)\n",
    "bboxes_copy = deepcopy(bboxes)\n",
    "i = 0\n",
    "while len(bboxes_copy) != 0:\n",
    "    bbox1 = bboxes_copy.pop()\n",
    "\n",
    "    for bbox2 in bboxes_copy:\n",
    "        harpnum1 = min(bbox1[0], bbox2[0]) # Smallest harpnum, used for cutout\n",
    "        harpnum2 = max(bbox1[0], bbox2[0]) # Larger harpnum\n",
    "\n",
    "        bboxA = [bbox1 if bbox1[0] == harpnum1 else bbox2][0] # Smallest harpnum\n",
    "        bboxB = [bbox2 if bbox2[0] == harpnum2 else bbox1][0] # Larger harpnum\n",
    "\n",
    "        dist = distance_between_bboxes(bboxA, bboxB)\n",
    "\n",
    "        dmatcur.execute(\"INSERT OR REPLACE INTO distance_matrix (harpnum1, harpnum2, timestamp, dist) VALUES (?, ?, ?, ?)\", (harpnum1, harpnum2, sample_timestamp, dist))\n",
    "\n",
    "        i += 1\n",
    "print(i)\n",
    "\n",
    "dmatcon.commit()"
   ]
  },
  {
   "cell_type": "code",
   "execution_count": 187,
   "metadata": {},
   "outputs": [],
   "source": [
    "dmatcur.execute(\"SELECT * FROM distance_matrix WHERE (harpnum1 = 4392 OR harpnum2 = 4392) AND dist = 0.0 LIMIT 10\")\n",
    "#dmatcur.execute(\"SELECT * FROM distance_matrix LIMIT 10\")\n",
    "res = dmatcur.fetchall()\n",
    "\n",
    "for r in res:\n",
    "    print(r)"
   ]
  },
  {
   "cell_type": "code",
   "execution_count": 179,
   "metadata": {},
   "outputs": [
    {
     "data": {
      "text/plain": [
       "10"
      ]
     },
     "execution_count": 179,
     "metadata": {},
     "output_type": "execute_result"
    }
   ],
   "source": [
    "len(bboxes)"
   ]
  },
  {
   "cell_type": "code",
   "execution_count": 15,
   "metadata": {},
   "outputs": [
    {
     "name": "stdout",
     "output_type": "stream",
     "text": [
      "[(0, 'timestamp', 'TEXT', 1, None, 0), (1, 'year', 'INTEGER', 1, None, 0), (2, 'month', 'INTEGER', 1, None, 0), (3, 'day', 'INTEGER', 1, None, 0), (4, 'hour', 'INTEGER', 1, None, 0), (5, 'minute', 'INTEGER', 1, None, 0), (6, 'second', 'INTEGER', 1, None, 0), (7, 'idx', 'INTEGER', 1, None, 0)]\n"
     ]
    }
   ],
   "source": [
    "# Print column names of images table\n",
    "\n",
    "cur.execute(\"PRAGMA table_info(images)\")\n",
    "print(cur.fetchall())"
   ]
  },
  {
   "cell_type": "code",
   "execution_count": null,
   "metadata": {},
   "outputs": [],
   "source": []
  }
 ],
 "metadata": {
  "kernelspec": {
   "display_name": "env",
   "language": "python",
   "name": "python3"
  },
  "language_info": {
   "codemirror_mode": {
    "name": "ipython",
    "version": 3
   },
   "file_extension": ".py",
   "mimetype": "text/x-python",
   "name": "python",
   "nbconvert_exporter": "python",
   "pygments_lexer": "ipython3",
   "version": "3.9.12"
  },
  "orig_nbformat": 4
 },
 "nbformat": 4,
 "nbformat_minor": 2
}
