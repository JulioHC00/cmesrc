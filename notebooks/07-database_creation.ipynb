{
 "cells": [
  {
   "cell_type": "code",
   "execution_count": 1,
   "metadata": {},
   "outputs": [
    {
     "name": "stdout",
     "output_type": "stream",
     "text": [
      "/home/julio/cmesrc/data/processed/cmesrc.db\n"
     ]
    }
   ],
   "source": [
    "# Add project root to pythonpath\n",
    "\n",
    "import sys\n",
    "from pathlib import Path\n",
    "project_root = Path().cwd().parent\n",
    "sys.path.append(str(project_root))\n",
    "\n",
    "from src.cmesrc.config import CMESRC_DB\n",
    "print(CMESRC_DB)\n",
    "\n",
    "import sqlite3"
   ]
  },
  {
   "cell_type": "code",
   "execution_count": 10,
   "metadata": {},
   "outputs": [],
   "source": [
    "con = sqlite3.connect(CMESRC_DB)\n",
    "con.execute(\"PRAGMA foreign_keys = ON\")\n",
    "cur = con.cursor()"
   ]
  },
  {
   "cell_type": "code",
   "execution_count": 22,
   "metadata": {},
   "outputs": [
    {
     "name": "stdout",
     "output_type": "stream",
     "text": [
      "[('harps',), ('harps_bbox',), ('cmes',), ('flares',), ('dimmings',), ('harps_pixel_bbox',), ('images',), ('pixel_values',), ('pixels',), ('x_pixel_values',), ('y_pixel_values',)]\n"
     ]
    }
   ],
   "source": [
    "sql_query = \"\"\"SELECT name FROM sqlite_master WHERE type='table';\n",
    "\"\"\"\n",
    "\n",
    "cur.execute(sql_query)\n",
    "print(cur.fetchall())"
   ]
  },
  {
   "cell_type": "code",
   "execution_count": 23,
   "metadata": {},
   "outputs": [
    {
     "ename": "OperationalError",
     "evalue": "table harps already exists",
     "output_type": "error",
     "traceback": [
      "\u001b[0;31m---------------------------------------------------------------------------\u001b[0m",
      "\u001b[0;31mOperationalError\u001b[0m                          Traceback (most recent call last)",
      "Cell \u001b[0;32mIn[23], line 1\u001b[0m\n\u001b[0;32m----> 1\u001b[0m cur\u001b[39m.\u001b[39;49mexecutescript(\u001b[39m\"\"\"\u001b[39;49m\n\u001b[1;32m      2\u001b[0m \u001b[39mCREATE TABLE harps (\u001b[39;49m\n\u001b[1;32m      3\u001b[0m \u001b[39m  harpnum INTEGER PRIMARY KEY,\u001b[39;49m\n\u001b[1;32m      4\u001b[0m \u001b[39m  start TEXT NOT NULL REFERENCES images (timestamp),\u001b[39;49m\n\u001b[1;32m      5\u001b[0m \u001b[39m  end TEXT NOT NULL REFERENCES images (timestamp)\u001b[39;49m\n\u001b[1;32m      6\u001b[0m \u001b[39m);\u001b[39;49m\n\u001b[1;32m      7\u001b[0m \n\u001b[1;32m      8\u001b[0m \u001b[39mCREATE TABLE harps_bbox (\u001b[39;49m\n\u001b[1;32m      9\u001b[0m \u001b[39m  harpnum INTEGER REFERENCES harps (harpnum),\u001b[39;49m\n\u001b[1;32m     10\u001b[0m \u001b[39m  timestamp TEXT REFERENCES images (timestamp),\u001b[39;49m\n\u001b[1;32m     11\u001b[0m \u001b[39m  LONDTMIN REAL,\u001b[39;49m\n\u001b[1;32m     12\u001b[0m \u001b[39m  LONDTMAX REAL,\u001b[39;49m\n\u001b[1;32m     13\u001b[0m \u001b[39m  LATDTMIN REAL,\u001b[39;49m\n\u001b[1;32m     14\u001b[0m \u001b[39m  LATDTMAX REAL,\u001b[39;49m\n\u001b[1;32m     15\u001b[0m \u001b[39m  IRBB INTEGER,\u001b[39;49m\n\u001b[1;32m     16\u001b[0m \u001b[39m  PRIMARY KEY (harpnum, timestamp)\u001b[39;49m\n\u001b[1;32m     17\u001b[0m \u001b[39m);\u001b[39;49m\n\u001b[1;32m     18\u001b[0m \n\u001b[1;32m     19\u001b[0m \u001b[39mCREATE TABLE cmes (\u001b[39;49m\n\u001b[1;32m     20\u001b[0m \u001b[39m  cme_id INTEGER PRIMARY KEY,\u001b[39;49m\n\u001b[1;32m     21\u001b[0m \u001b[39m  timestamp TEXT NOT NULL REFERENCES images (timestamp),\u001b[39;49m\n\u001b[1;32m     22\u001b[0m \u001b[39m  harps_sr INTEGER REFERENCES harps (harpnum)\u001b[39;49m\n\u001b[1;32m     23\u001b[0m \u001b[39m);\u001b[39;49m\n\u001b[1;32m     24\u001b[0m \n\u001b[1;32m     25\u001b[0m \u001b[39mCREATE TABLE flares (\u001b[39;49m\n\u001b[1;32m     26\u001b[0m \u001b[39m  flare_id INTEGER PRIMARY KEY,\u001b[39;49m\n\u001b[1;32m     27\u001b[0m \u001b[39m  harpnum INTEGER REFERENCES harps (harpnum),\u001b[39;49m\n\u001b[1;32m     28\u001b[0m \u001b[39m  cme INTEGER REFERENCES cmes (cme_id),\u001b[39;49m\n\u001b[1;32m     29\u001b[0m \u001b[39m  timestamp TEXT NOT NULL REFERENCES images (timestamp),\u001b[39;49m\n\u001b[1;32m     30\u001b[0m \u001b[39m  class TEXT NOT NULL,\u001b[39;49m\n\u001b[1;32m     31\u001b[0m \u001b[39m  class_score REAL NOT NULL,\u001b[39;49m\n\u001b[1;32m     32\u001b[0m \u001b[39m  LON REAL NOT NULL,\u001b[39;49m\n\u001b[1;32m     33\u001b[0m \u001b[39m  LAT REAL NOT NULL,\u001b[39;49m\n\u001b[1;32m     34\u001b[0m \u001b[39m  verification TEXT NOT NULL\u001b[39;49m\n\u001b[1;32m     35\u001b[0m \u001b[39m);\u001b[39;49m\n\u001b[1;32m     36\u001b[0m \n\u001b[1;32m     37\u001b[0m \u001b[39mCREATE TABLE dimmings (\u001b[39;49m\n\u001b[1;32m     38\u001b[0m \u001b[39m  dimming_id INTEGER PRIMARY KEY,\u001b[39;49m\n\u001b[1;32m     39\u001b[0m \u001b[39m  harpnum INTEGER REFERENCES harps (harpnum),\u001b[39;49m\n\u001b[1;32m     40\u001b[0m \u001b[39m  cme INTEGER REFERENCES cmes (cme_id),\u001b[39;49m\n\u001b[1;32m     41\u001b[0m \u001b[39m  timestamp TEXT NOT NULL REFERENCES images (timestamp),\u001b[39;49m\n\u001b[1;32m     42\u001b[0m \u001b[39m  LON REAL NOT NULL,\u001b[39;49m\n\u001b[1;32m     43\u001b[0m \u001b[39m  LAT REAL NOT NULL\u001b[39;49m\n\u001b[1;32m     44\u001b[0m \u001b[39m);\u001b[39;49m\n\u001b[1;32m     45\u001b[0m \n\u001b[1;32m     46\u001b[0m \u001b[39mCREATE TABLE harps_pixel_bbox (\u001b[39;49m\n\u001b[1;32m     47\u001b[0m \u001b[39m  harpnum INTEGER REFERENCES harps (harpnum),\u001b[39;49m\n\u001b[1;32m     48\u001b[0m \u001b[39m  timestamp TEXT REFERENCES images (timestamp),\u001b[39;49m\n\u001b[1;32m     49\u001b[0m \u001b[39m  x INTEGER REFERENCES x_pixel_values (x),\u001b[39;49m\n\u001b[1;32m     50\u001b[0m \u001b[39m  y INTEGER REFERENCES y_pixel_values (y),\u001b[39;49m\n\u001b[1;32m     51\u001b[0m \u001b[39m  PRIMARY KEY (harpnum, timestamp)\u001b[39;49m\n\u001b[1;32m     52\u001b[0m \u001b[39m);\u001b[39;49m\n\u001b[1;32m     53\u001b[0m \n\u001b[1;32m     54\u001b[0m \u001b[39mCREATE TABLE images (\u001b[39;49m\n\u001b[1;32m     55\u001b[0m \u001b[39m  timestamp TEXT NOT NULL UNIQUE,\u001b[39;49m\n\u001b[1;32m     56\u001b[0m \u001b[39m  year INTEGER NOT NULL,\u001b[39;49m\n\u001b[1;32m     57\u001b[0m \u001b[39m  month INTEGER NOT NULL,\u001b[39;49m\n\u001b[1;32m     58\u001b[0m \u001b[39m  day INTEGER NOT NULL,\u001b[39;49m\n\u001b[1;32m     59\u001b[0m \u001b[39m  hour INTEGER NOT NULL,\u001b[39;49m\n\u001b[1;32m     60\u001b[0m \u001b[39m  minute INTEGER NOT NULL,\u001b[39;49m\n\u001b[1;32m     61\u001b[0m \u001b[39m  second INTEGER NOT NULL,\u001b[39;49m\n\u001b[1;32m     62\u001b[0m \u001b[39m  idx INTEGER NOT NULL\u001b[39;49m\n\u001b[1;32m     63\u001b[0m \u001b[39m);\u001b[39;49m\n\u001b[1;32m     64\u001b[0m \n\u001b[1;32m     65\u001b[0m \u001b[39mCREATE TABLE pixel_values (\u001b[39;49m\n\u001b[1;32m     66\u001b[0m \u001b[39m  value_id INTEGER PRIMARY KEY,\u001b[39;49m\n\u001b[1;32m     67\u001b[0m \u001b[39m  description TEXT NOT NULL UNIQUE\u001b[39;49m\n\u001b[1;32m     68\u001b[0m \u001b[39m);\u001b[39;49m\n\u001b[1;32m     69\u001b[0m \n\u001b[1;32m     70\u001b[0m \u001b[39mCREATE TABLE pixels (\u001b[39;49m\n\u001b[1;32m     71\u001b[0m \u001b[39m  timestamp TEXT REFERENCES images (timestamp),\u001b[39;49m\n\u001b[1;32m     72\u001b[0m \u001b[39m  x INTEGER REFERENCES x_pixel_values (x),\u001b[39;49m\n\u001b[1;32m     73\u001b[0m \u001b[39m  y INTEGER REFERENCES y_pixel_values (y),\u001b[39;49m\n\u001b[1;32m     74\u001b[0m \u001b[39m  value INTEGER REFERENCES pixel_values (value_id),\u001b[39;49m\n\u001b[1;32m     75\u001b[0m \u001b[39m  PRIMARY KEY (timestamp, x, y)\u001b[39;49m\n\u001b[1;32m     76\u001b[0m \u001b[39m);\u001b[39;49m\n\u001b[1;32m     77\u001b[0m \n\u001b[1;32m     78\u001b[0m \u001b[39mCREATE TABLE x_pixel_values (\u001b[39;49m\n\u001b[1;32m     79\u001b[0m \u001b[39m  x INTEGER PRIMARY KEY\u001b[39;49m\n\u001b[1;32m     80\u001b[0m \u001b[39m);\u001b[39;49m\n\u001b[1;32m     81\u001b[0m \n\u001b[1;32m     82\u001b[0m \u001b[39mCREATE TABLE y_pixel_values (\u001b[39;49m\n\u001b[1;32m     83\u001b[0m \u001b[39m  y INTEGER PRIMARY KEY\u001b[39;49m\n\u001b[1;32m     84\u001b[0m \u001b[39m);\u001b[39;49m\n\u001b[1;32m     85\u001b[0m \u001b[39m\"\"\"\u001b[39;49m)\n",
      "\u001b[0;31mOperationalError\u001b[0m: table harps already exists"
     ]
    }
   ],
   "source": [
    "cur.executescript(\"\"\"\n",
    "CREATE TABLE harps (\n",
    "  harpnum INTEGER PRIMARY KEY,\n",
    "  start TEXT NOT NULL REFERENCES images (timestamp),\n",
    "  end TEXT NOT NULL REFERENCES images (timestamp)\n",
    ");\n",
    "\n",
    "CREATE TABLE harps_bbox (\n",
    "  harpnum INTEGER REFERENCES harps (harpnum),\n",
    "  timestamp TEXT REFERENCES images (timestamp),\n",
    "  LONDTMIN REAL,\n",
    "  LONDTMAX REAL,\n",
    "  LATDTMIN REAL,\n",
    "  LATDTMAX REAL,\n",
    "  IRBB INTEGER,\n",
    "  PRIMARY KEY (harpnum, timestamp)\n",
    ");\n",
    "\n",
    "CREATE TABLE cmes (\n",
    "  cme_id INTEGER PRIMARY KEY,\n",
    "  timestamp TEXT NOT NULL REFERENCES images (timestamp),\n",
    "  harps_sr INTEGER REFERENCES harps (harpnum)\n",
    ");\n",
    "\n",
    "CREATE TABLE flares (\n",
    "  flare_id INTEGER PRIMARY KEY,\n",
    "  harpnum INTEGER REFERENCES harps (harpnum),\n",
    "  cme INTEGER REFERENCES cmes (cme_id),\n",
    "  timestamp TEXT NOT NULL REFERENCES images (timestamp),\n",
    "  class TEXT NOT NULL,\n",
    "  class_score REAL NOT NULL,\n",
    "  LON REAL NOT NULL,\n",
    "  LAT REAL NOT NULL,\n",
    "  verification TEXT NOT NULL\n",
    ");\n",
    "\n",
    "CREATE TABLE dimmings (\n",
    "  dimming_id INTEGER PRIMARY KEY,\n",
    "  harpnum INTEGER REFERENCES harps (harpnum),\n",
    "  cme INTEGER REFERENCES cmes (cme_id),\n",
    "  timestamp TEXT NOT NULL REFERENCES images (timestamp),\n",
    "  LON REAL NOT NULL,\n",
    "  LAT REAL NOT NULL\n",
    ");\n",
    "\n",
    "CREATE TABLE harps_pixel_bbox (\n",
    "  harpnum INTEGER REFERENCES harps (harpnum),\n",
    "  timestamp TEXT REFERENCES images (timestamp),\n",
    "  x_min INTEGER NOT NULL REFERENCES x_pixel_values (x),\n",
    "  x_max INTEGER NOT NULL REFERENCES x_pixel_values (x),\n",
    "  y_min INTEGER NOT NULL REFERENCES y_pixel_values (y),\n",
    "  y_max INTEGER NOT NULL REFERENCES y_pixel_values (y),\n",
    "  x_cen INTEGER NOT NULL REFERENCES x_pixel_values (x),\n",
    "  y_cen INTEGER NOT NULL REFERENCES y_pixel_values (y),\n",
    "  PRIMARY KEY (harpnum, timestamp),\n",
    "  FOREIGN KEY (harpnum, timestamp) REFERENCES harps_bbox (harpnum, timestamp)\n",
    ");\n",
    "\n",
    "CREATE TABLE images (\n",
    "  timestamp TEXT NOT NULL UNIQUE,\n",
    "  year INTEGER NOT NULL,\n",
    "  month INTEGER NOT NULL,\n",
    "  day INTEGER NOT NULL,\n",
    "  hour INTEGER NOT NULL,\n",
    "  minute INTEGER NOT NULL,\n",
    "  second INTEGER NOT NULL,\n",
    "  idx INTEGER NOT NULL\n",
    ");\n",
    "\n",
    "CREATE TABLE pixel_values (\n",
    "  value_id INTEGER PRIMARY KEY,\n",
    "  description TEXT NOT NULL UNIQUE\n",
    ");\n",
    "\n",
    "CREATE TABLE pixels (\n",
    "  timestamp TEXT REFERENCES images (timestamp),\n",
    "  x INTEGER REFERENCES x_pixel_values (x),\n",
    "  y INTEGER REFERENCES y_pixel_values (y),\n",
    "  value INTEGER REFERENCES pixel_values (value_id),\n",
    "  PRIMARY KEY (timestamp, x, y)\n",
    ");\n",
    "\n",
    "CREATE TABLE x_pixel_values (\n",
    "  x INTEGER NOT NULL PRIMARY KEY\n",
    ");\n",
    "\n",
    "CREATE TABLE y_pixel_values (\n",
    "  y INTEGER NOT NULL PRIMARY KEY\n",
    ");\n",
    "\"\"\")"
   ]
  },
  {
   "cell_type": "code",
   "execution_count": 19,
   "metadata": {},
   "outputs": [],
   "source": [
    "cur.close()\n",
    "con.close()"
   ]
  },
  {
   "attachments": {},
   "cell_type": "markdown",
   "metadata": {},
   "source": [
    "### DONE"
   ]
  },
  {
   "cell_type": "markdown",
   "metadata": {},
   "source": []
  }
 ],
 "metadata": {
  "kernelspec": {
   "display_name": "env",
   "language": "python",
   "name": "python3"
  },
  "language_info": {
   "codemirror_mode": {
    "name": "ipython",
    "version": 3
   },
   "file_extension": ".py",
   "mimetype": "text/x-python",
   "name": "python",
   "nbconvert_exporter": "python",
   "pygments_lexer": "ipython3",
   "version": "3.9.12"
  },
  "orig_nbformat": 4
 },
 "nbformat": 4,
 "nbformat_minor": 2
}
