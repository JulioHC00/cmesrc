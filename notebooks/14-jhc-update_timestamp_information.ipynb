{
 "cells": [
  {
   "cell_type": "code",
   "execution_count": 6,
   "metadata": {},
   "outputs": [],
   "source": [
    "import dask.array as da\n",
    "import numpy as np\n",
    "import pandas as pd\n",
    "import pickle\n",
    "from tqdm import tqdm"
   ]
  },
  {
   "cell_type": "code",
   "execution_count": 3,
   "metadata": {},
   "outputs": [],
   "source": [
    "import os\n",
    "from typing import Union\n",
    "\n",
    "import s3fs\n",
    "import zarr\n",
    "\n",
    "AWS_ZARR_ROOT = (\n",
    "    \"s3://gov-nasa-hdrl-data1/contrib/fdl-sdoml/fdl-sdoml-v2/sdomlv2_hmi.zarr/\"\n",
    ")\n",
    "\n",
    "\n",
    "def s3_connection(path_to_zarr: os.path) -> s3fs.S3Map:\n",
    "    \"\"\"\n",
    "    Instantiate connection to aws for a given path `path_to_zarr`\n",
    "    \"\"\"\n",
    "    return s3fs.S3Map(\n",
    "        root=path_to_zarr,\n",
    "        s3=s3fs.S3FileSystem(anon=True),\n",
    "        # anonymous access requires no credentials\n",
    "        check=False,\n",
    "    )\n",
    "\n",
    "\n",
    "def load_single_aws_zarr(\n",
    "    path_to_zarr: os.path,\n",
    "    cache_max_single_size: int = None,\n",
    ") -> Union[zarr.Array, zarr.Group]:\n",
    "    \"\"\"\n",
    "    load zarr from s3 using LRU cache\n",
    "    \"\"\"\n",
    "    return zarr.open(\n",
    "        zarr.LRUStoreCache(\n",
    "            store=s3_connection(path_to_zarr),\n",
    "            max_size=cache_max_single_size,\n",
    "        ),\n",
    "        mode=\"r\",\n",
    "    )\n",
    "\n",
    "\n",
    "root = load_single_aws_zarr(\n",
    "    path_to_zarr=AWS_ZARR_ROOT,\n",
    ")"
   ]
  },
  {
   "cell_type": "code",
   "execution_count": 4,
   "metadata": {},
   "outputs": [],
   "source": [
    "def get_header(data, index):\n",
    "    headr = {keys: values[index] for keys, values in data.attrs.items()}\n",
    "    return headr\n",
    "\n",
    "def get_all_headers(data):\n",
    "    headr = {keys: values for keys, values in data.attrs.items()}\n",
    "    return headr"
   ]
  },
  {
   "cell_type": "code",
   "execution_count": 8,
   "metadata": {},
   "outputs": [
    {
     "name": "stderr",
     "output_type": "stream",
     "text": [
      "100%|██████████| 11/11 [02:03<00:00, 11.25s/it]\n"
     ]
    }
   ],
   "source": [
    "\n",
    "timestamp_info_dict = {}\n",
    "\n",
    "for year in tqdm(root):\n",
    "    data = root[year][\"Bx\"]\n",
    "    header = get_all_headers(data)\n",
    "\n",
    "    timestamps = header[\"T_REC\"]\n",
    "\n",
    "    for i, timestamp in enumerate(timestamps):\n",
    "        timestamp = timestamp[:-4].replace(\"_\", \" \").replace(\".\", \"-\")\n",
    "\n",
    "        timestamp_info_dict[timestamp] = {\n",
    "            \"year\": year,\n",
    "#            \"harps\": timestamps_harps[timestamp],\n",
    "            \"index\": i,\n",
    "            \"header\": {keys: values[i] for keys, values in data.attrs.items() if len(values) > i},\n",
    "        }"
   ]
  },
  {
   "cell_type": "code",
   "execution_count": null,
   "metadata": {},
   "outputs": [],
   "source": []
  }
 ],
 "metadata": {
  "kernelspec": {
   "display_name": "env",
   "language": "python",
   "name": "python3"
  },
  "language_info": {
   "codemirror_mode": {
    "name": "ipython",
    "version": 3
   },
   "file_extension": ".py",
   "mimetype": "text/x-python",
   "name": "python",
   "nbconvert_exporter": "python",
   "pygments_lexer": "ipython3",
   "version": "3.9.12"
  },
  "orig_nbformat": 4
 },
 "nbformat": 4,
 "nbformat_minor": 2
}
