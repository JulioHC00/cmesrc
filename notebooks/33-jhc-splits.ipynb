{
 "cells": [
  {
   "cell_type": "code",
   "execution_count": 3,
   "metadata": {},
   "outputs": [],
   "source": [
    "import sys\n",
    "sys.path.append('../')\n",
    "\n",
    "import pandas as pd\n",
    "import numpy as np\n",
    "import sqlite3\n",
    "from src.cmesrc.config import CMESRCV2_DB"
   ]
  },
  {
   "cell_type": "code",
   "execution_count": 4,
   "metadata": {},
   "outputs": [],
   "source": [
    "conn = sqlite3.connect(CMESRCV2_DB)\n",
    "conn.execute(\"PRAGMA foreign_keys = on\")\n",
    "cur = conn.cursor()"
   ]
  },
  {
   "cell_type": "code",
   "execution_count": 13,
   "metadata": {},
   "outputs": [
    {
     "data": {
      "text/plain": [
       "0.0    3088\n",
       "1.0      68\n",
       "2.0      66\n",
       "3.0      51\n",
       "4.0     178\n",
       "5.0     108\n",
       "Name: highest_verification_score, dtype: int64"
      ]
     },
     "execution_count": 13,
     "metadata": {},
     "output_type": "execute_result"
    }
   ],
   "source": [
    "# First we need to know how many harps there are of each verification level\n",
    "\n",
    "scores = pd.read_sql(\"\"\"\n",
    "            WITH ACCEPTED_HARPS AS (\n",
    "                SELECT DISTINCT harpnum FROM HOURLY_PIXEL_BBOX\n",
    "            )\n",
    "            SELECT AH.harpnum, MIN(FCHA.verification_score) AS highest_verification_score FROM ACCEPTED_HARPS AH\n",
    "            LEFT JOIN FINAL_CME_HARP_ASSOCIATIONS FCHA\n",
    "            ON FCHA.harpnum = AH.harpnum\n",
    "            GROUP BY AH.harpnum\n",
    "            \"\"\", conn)\n",
    "scores.replace(np.nan, 0, inplace=True)\n",
    "scores[\"highest_verification_score\"].value_counts().sort_index()"
   ]
  },
  {
   "cell_type": "code",
   "execution_count": 19,
   "metadata": {},
   "outputs": [
    {
     "data": {
      "text/plain": [
       "{0.0: 617, 1.0: 13, 2.0: 13, 3.0: 10, 4.0: 35, 5.0: 21}"
      ]
     },
     "execution_count": 19,
     "metadata": {},
     "output_type": "execute_result"
    }
   ],
   "source": [
    "# So the number of HARPS by split will be approx\n",
    "\n",
    "n_splits = 5\n",
    "\n",
    "split_counts = (scores[\"highest_verification_score\"].value_counts().sort_index() / n_splits).astype(int).to_dict()\n",
    "(scores[\"highest_verification_score\"].value_counts().sort_index() / n_splits).astype(int).to_dict()"
   ]
  },
  {
   "cell_type": "code",
   "execution_count": 20,
   "metadata": {},
   "outputs": [
    {
     "data": {
      "text/plain": [
       "{0: {0.0: 0, 1.0: 0, 2.0: 0, 3.0: 0, 4.0: 0, 5.0: 0},\n",
       " 1: {0.0: 0, 1.0: 0, 2.0: 0, 3.0: 0, 4.0: 0, 5.0: 0},\n",
       " 2: {0.0: 0, 1.0: 0, 2.0: 0, 3.0: 0, 4.0: 0, 5.0: 0},\n",
       " 3: {0.0: 0, 1.0: 0, 2.0: 0, 3.0: 0, 4.0: 0, 5.0: 0},\n",
       " 4: {0.0: 0, 1.0: 0, 2.0: 0, 3.0: 0, 4.0: 0, 5.0: 0}}"
      ]
     },
     "execution_count": 20,
     "metadata": {},
     "output_type": "execute_result"
    }
   ],
   "source": [
    "# Now this is our dict that holds how many harps there are in each split-verif combination\n",
    "\n",
    "assignment_counts = {\n",
    "    i: {\n",
    "        j: 0\n",
    "        for j in split_counts.keys()\n",
    "    } for i in range(n_splits)\n",
    "}\n",
    "\n",
    "assignment_counts"
   ]
  },
  {
   "cell_type": "code",
   "execution_count": null,
   "metadata": {},
   "outputs": [],
   "source": [
    "# Now we need a list of harps with overlaps\n",
    "\n",
    "harps_with_overlaps = pd.read_sql(\"\"\"\n",
    "                                SELECT * FROM H\n",
    "\"\"\")"
   ]
  }
 ],
 "metadata": {
  "kernelspec": {
   "display_name": "Python 3",
   "language": "python",
   "name": "python3"
  },
  "language_info": {
   "codemirror_mode": {
    "name": "ipython",
    "version": 3
   },
   "file_extension": ".py",
   "mimetype": "text/x-python",
   "name": "python",
   "nbconvert_exporter": "python",
   "pygments_lexer": "ipython3",
   "version": "3.10.12"
  },
  "orig_nbformat": 4
 },
 "nbformat": 4,
 "nbformat_minor": 2
}
